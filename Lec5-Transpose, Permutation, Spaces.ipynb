{
 "cells": [
  {
   "cell_type": "markdown",
   "metadata": {},
   "source": [
    "### Transposes, Permutations, Spaces $R^n$"
   ]
  },
  {
   "cell_type": "markdown",
   "metadata": {},
   "source": [
    "Permutations P executes row exchanges\n",
    "\n",
    "$A = LU$ = lower triangle * upper triangle. If no row exchange $P=I$\n",
    "\n",
    "With row exchange $PA = LU$. P will get non-zero into pivot position to assist elimination process\n",
    "\n",
    "Permutations P = identity matrix with reordered rows\n",
    "\n",
    "Another property of P, $P^{-1} = P^{T}$ or $P^{T}P = I$\n",
    "\n"
   ]
  },
  {
   "cell_type": "code",
   "execution_count": 2,
   "metadata": {},
   "outputs": [
    {
     "data": {
      "text/plain": [
       "3×2 Array{Int64,2}:\n",
       " 1  3\n",
       " 2  3\n",
       " 4  1"
      ]
     },
     "execution_count": 2,
     "metadata": {},
     "output_type": "execute_result"
    }
   ],
   "source": [
    "A = [1 3; 2 3; 4 1]"
   ]
  },
  {
   "cell_type": "code",
   "execution_count": 3,
   "metadata": {},
   "outputs": [
    {
     "data": {
      "text/plain": [
       "2×3 LinearAlgebra.Transpose{Int64,Array{Int64,2}}:\n",
       " 1  2  4\n",
       " 3  3  1"
      ]
     },
     "execution_count": 3,
     "metadata": {},
     "output_type": "execute_result"
    }
   ],
   "source": [
    "transpose(A)"
   ]
  },
  {
   "cell_type": "markdown",
   "metadata": {},
   "source": [
    "$A^{T}_{ij} = A_{ji}$\n",
    "\n",
    "Symmetric matrices, $A^{T}=A$"
   ]
  },
  {
   "cell_type": "code",
   "execution_count": 4,
   "metadata": {},
   "outputs": [
    {
     "data": {
      "text/plain": [
       "true"
      ]
     },
     "execution_count": 4,
     "metadata": {},
     "output_type": "execute_result"
    }
   ],
   "source": [
    "A = [3 1 7; 1 2 9; 7 9 4]\n",
    "A == transpose(A)"
   ]
  },
  {
   "cell_type": "markdown",
   "metadata": {},
   "source": [
    "$R^{T}R$ is always symmetric"
   ]
  },
  {
   "cell_type": "code",
   "execution_count": 5,
   "metadata": {},
   "outputs": [
    {
     "data": {
      "text/plain": [
       "3×3 Array{Int64,2}:\n",
       " 10  11   7\n",
       " 11  13  11\n",
       "  7  11  17"
      ]
     },
     "execution_count": 5,
     "metadata": {},
     "output_type": "execute_result"
    }
   ],
   "source": [
    "R = [1 3; 2 3; 4 1]\n",
    "R*transpose(R)"
   ]
  },
  {
   "cell_type": "markdown",
   "metadata": {},
   "source": [
    "Why always symmetric? Take the transpose!\n",
    "\n",
    "Rules of transpose is to invert the order\n",
    "\n",
    "$(R^{T}R)^{T} = R^{T}R^{TT} = R^{T}R$"
   ]
  },
  {
   "cell_type": "markdown",
   "metadata": {},
   "source": [
    "### Vector Spaces\n",
    "\n",
    "Space means a bunch of vectors\n",
    "\n",
    "Ex: $R^2$ = all 2-dim. real vectors, such as $\\begin{bmatrix} 3 \\\\ 2 \\end{bmatrix}, \\begin{bmatrix} 0 \\\\ 0 \\end{bmatrix}, \\begin{bmatrix} \\pi \\\\ e \\end{bmatrix}$ = x-y plane\n",
    "\n",
    "$R^3$ = all vectors with 3 real components $\\begin{bmatrix} 3 \\\\ 2 \\\\ 0 \\end{bmatrix}$\n",
    "\n",
    "$R^n$ = all column vectors with n real components\n",
    "\n",
    "Support a vector space inside $R^2$, call it subspace of $R^2$, we are able to multiply, add and substract vector with any numbers, that means we have all lines.\n",
    "\n",
    "Once we got a vector, we get the whole lines\n",
    "\n",
    "To be in a subspace, the line must go through zero vector\n",
    "\n",
    "#### Subspaces of $R^2$\n",
    "1. all of $R^2$\n",
    "2. any line though $\\begin{bmatrix} 0 \\\\ 0 \\end{bmatrix}$\n",
    "3. zero vector only, $Z$\n",
    "\n",
    "#### Subspaces of $R^3$\n",
    "1. all of $R^3$\n",
    "2. any line though origin\n",
    "3. any plane through origin\n",
    "3. zero vector only, $Z$\n",
    "\n",
    "\n",
    "\n"
   ]
  },
  {
   "cell_type": "code",
   "execution_count": 6,
   "metadata": {},
   "outputs": [
    {
     "data": {
      "text/plain": [
       "3×2 Array{Int64,2}:\n",
       " 1  3\n",
       " 2  3\n",
       " 4  1"
      ]
     },
     "execution_count": 6,
     "metadata": {},
     "output_type": "execute_result"
    }
   ],
   "source": [
    "A = [1 3; 2 3; 4 1]"
   ]
  },
  {
   "cell_type": "markdown",
   "metadata": {},
   "source": [
    "For the above matrix A, columns are in  $R^3$\n",
    "\n",
    "all their linear combinations form a subspace, called the column space $C(A)$"
   ]
  },
  {
   "cell_type": "code",
   "execution_count": null,
   "metadata": {},
   "outputs": [],
   "source": []
  }
 ],
 "metadata": {
  "kernelspec": {
   "display_name": "Julia 1.5.0",
   "language": "julia",
   "name": "julia-1.5"
  },
  "language_info": {
   "file_extension": ".jl",
   "mimetype": "application/julia",
   "name": "julia",
   "version": "1.5.0"
  }
 },
 "nbformat": 4,
 "nbformat_minor": 4
}
