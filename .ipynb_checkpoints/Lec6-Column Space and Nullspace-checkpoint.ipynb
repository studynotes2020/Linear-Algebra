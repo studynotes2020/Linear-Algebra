{
 "cells": [
  {
   "cell_type": "markdown",
   "metadata": {},
   "source": [
    "- Vector spaces and Subspaces\n",
    "- Column space of A: Solving $Ax = b$\n",
    "- Nullspace of A"
   ]
  },
  {
   "cell_type": "markdown",
   "metadata": {},
   "source": [
    "Vector space requirements:\n",
    "\n",
    "1. v + w and cv are in the space\n",
    "2. all combinations cv + dw are in the space"
   ]
  },
  {
   "cell_type": "markdown",
   "metadata": {},
   "source": [
    "- Plane P through origin is a subspace\n",
    "- Line L through origin is a subspace\n",
    "\n",
    "Suppose 2 subspaces: P and L \n",
    "\n",
    "$P \\cup L$ which is all vectors in P or L or both. Is that a subspace? <br>\n",
    "No, suppose a point in P add a point in L, the point will be outside of union, so not in subspace\n",
    "\n",
    "$P \\cap L$ which is all vectors in both P and L. Is this a subspace? <br>\n",
    "It is only zero (suppose L not in the plane). Zero vector is subspace by itself.\n",
    "\n",
    "Subspace S and T, intersection $S \\cap T$ is a subspace. Support v and w vector in the intersection, so they both is S, also mean they both in T. Because they are in S, so their sum is in S. Their result is also in T because T is in the subspace. \n",
    "\n",
    "\n"
   ]
  },
  {
   "cell_type": "markdown",
   "metadata": {},
   "source": [
    "#### Column Space of A"
   ]
  },
  {
   "cell_type": "code",
   "execution_count": 3,
   "metadata": {},
   "outputs": [
    {
     "data": {
      "text/plain": [
       "4×3 Array{Int64,2}:\n",
       " 1  1  2\n",
       " 2  1  3\n",
       " 3  1  4\n",
       " 4  1  5"
      ]
     },
     "execution_count": 3,
     "metadata": {},
     "output_type": "execute_result"
    }
   ],
   "source": [
    "A = [1 1 2; 2 1 3; 3 1 4; 4 1 5]"
   ]
  },
  {
   "cell_type": "markdown",
   "metadata": {},
   "source": [
    "Column space of A, $C(A)$ is a subspace of $R^4$. \n",
    "\n",
    "Column space is all linear combinations of columns\n",
    "\n",
    "Does $Ax = b$ have a solution for every $b$? <br>\n",
    "No. There might be 4 equations with only 3 unknowns\n",
    "\n",
    "$A = \\begin{bmatrix} 1&1&2 \\\\ 2&1&3 \\\\ 3&1&4 \\\\ 4&1&5 \\end{bmatrix}\n",
    "\\begin{bmatrix} x_1 \\\\ x_2 \\\\ x_3 \\end{bmatrix} \n",
    "= \\begin{bmatrix} b_1 \\\\ b_2 \\\\ b_3 \\\\ b_4 \\end{bmatrix}$\n",
    "\n",
    "The combinations of these columns don't fill the while 4D space. There are some vector b which is not the linear combination of column space\n",
    "\n",
    "Which b allow this system to be solved (with only 3 uknowns)?? <br>\n",
    "b is zero vector.\n",
    "\n",
    "$b = \\begin{bmatrix} 1 \\\\ 2 \\\\ 3 \\\\ 4 \\end{bmatrix}$\n",
    "$x = \\begin{bmatrix} 1 \\\\ 0 \\\\ 0 \\end{bmatrix}$ solves it\n",
    "\n",
    "Think of a solution x, then calculate b. In other words, I can solve $Ax = b$ when the right hand $b$ is a vector in the column space.\n",
    "\n",
    "That's one reason we interested in column space, because it indicates that whether we can solve the system of equations\n",
    "\n",
    "Third columns is the linear combination of first and second rows. So, it is not independent, it does not give us something new. We can throw away that column. Actually we can also throw away first column, but the convention is that we keep each independent column until we meet a dependent column.\n",
    "\n",
    "\n"
   ]
  },
  {
   "cell_type": "markdown",
   "metadata": {},
   "source": [
    "#### Nullspace\n",
    "\n",
    "Nullspace of A contains all solutions $x = \\begin{bmatrix} x_1 \\\\ x_2 \\\\ x_3 \\end{bmatrix}$ to $Ax = 0$. This is in $R^3$\n",
    "\n",
    "$A = \\begin{bmatrix} 1&1&2 \\\\ 2&1&3 \\\\ 3&1&4 \\\\ 4&1&5 \\end{bmatrix}\n",
    "\\begin{bmatrix} x_1 \\\\ x_2 \\\\ x_3 \\end{bmatrix} \n",
    "= \\begin{bmatrix} 0 \\\\ 0 \\\\ 0 \\\\ 0 \\end{bmatrix}$\n",
    "\n",
    "Certainly contain zero vector, $\\begin{bmatrix} 2 \\\\ 2 \\\\ -2 \\end{bmatrix}$, $\\begin{bmatrix} 1 \\\\ 1 \\\\ -1 \\end{bmatrix}$,\n",
    "$\\begin{bmatrix} c \\\\ c \\\\ -c \\end{bmatrix}$ or \n",
    "$k\\begin{bmatrix} 1 \\\\ 1 \\\\ -1 \\end{bmatrix}$\n",
    "\n",
    "So, nullspace is a line in $R^3$\n",
    "\n",
    "Check that solutions to $Ax = 0$ always give a subspace\n",
    "\n",
    "If $Av = 0$, and $Aw = 0$, then $A(v + w) = 0$\n",
    "\n",
    "By distributive law $Av + Aw = 0$. Also $A(12)v = 0$ because we are allow to take the constant to outside\n",
    "\n",
    "Another question, suppose\n",
    "$A = \\begin{bmatrix} 1&1&2 \\\\ 2&1&3 \\\\ 3&1&4 \\\\ 4&1&5 \\end{bmatrix}\n",
    "\\begin{bmatrix} x_1 \\\\ x_2 \\\\ x_3 \\end{bmatrix} \n",
    "= \\begin{bmatrix} 0 \\\\ 0 \\\\ 0 \\\\ 0 \\end{bmatrix}$\n",
    "\n",
    "Do the solutions x form a subspace?? <br>\n",
    "No because a zero vector is not one of the solution.\n",
    "\n",
    "\n",
    "Two ways to construct a subspace\n",
    "1. Give you a few vectors, their linear combination is a subspace\n",
    "2. When we talked about a nullspace, there was no vectors given. But there is a system of equation to be satisfied, $Ax = b$, which is the requirement x has to satisfy.\n"
   ]
  },
  {
   "cell_type": "code",
   "execution_count": null,
   "metadata": {},
   "outputs": [],
   "source": []
  }
 ],
 "metadata": {
  "kernelspec": {
   "display_name": "Julia 1.5.0",
   "language": "julia",
   "name": "julia-1.5"
  },
  "language_info": {
   "file_extension": ".jl",
   "mimetype": "application/julia",
   "name": "julia",
   "version": "1.5.0"
  }
 },
 "nbformat": 4,
 "nbformat_minor": 4
}
