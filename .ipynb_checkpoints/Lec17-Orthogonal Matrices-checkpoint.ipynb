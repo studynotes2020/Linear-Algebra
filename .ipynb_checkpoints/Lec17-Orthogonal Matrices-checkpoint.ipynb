{
 "cells": [
  {
   "cell_type": "markdown",
   "metadata": {},
   "source": [
    "## Orthonormal vectors\n",
    "\n",
    "$$q_i^T q_j = \\begin{cases}\n",
    "0 & \\text{if $i \\neq j$} \\\\ \n",
    "1 & \\text{if $i = j$}\n",
    "\\end{cases}$$\n",
    "\n",
    "$$Q = \\begin{bmatrix} q_1 & q_n \\end{bmatrix}$$\n",
    "\n",
    "$$Q^T Q = \\begin{bmatrix}q_1^T \\\\ q_n^T \\end{bmatrix}\n",
    "\\begin{bmatrix} q_1 & q_n \\end{bmatrix} = I$$\n",
    "\n",
    "\n",
    "\n",
    "## Orthogonal matrix\n",
    "\n",
    "We only say orthogonal matrix when it is square\n",
    "\n",
    "If $Q$ is square then $Q^T Q = I$, tells us $Q^T = Q^{-1}$\n",
    "\n",
    "Examples permutation $Q = \\begin{bmatrix} 0&0&1 \\\\ 1&0&0 \\\\ 0&1&0 \\end{bmatrix}$ then $Q^T = \\begin{bmatrix} 0&1&0 \\\\ 0&0&1 \\\\ 1&0&0 \\end{bmatrix}$\n",
    "\n",
    "$$Q^T Q =  \\begin{bmatrix} 0&1&0 \\\\ 0&0&1 \\\\ 1&0&0 \\end{bmatrix}\n",
    "\\begin{bmatrix} 0&0&1 \\\\ 1&0&0 \\\\ 0&1&0 \\end{bmatrix}  = I$$"
   ]
  },
  {
   "cell_type": "code",
   "execution_count": 63,
   "metadata": {},
   "outputs": [
    {
     "data": {
      "text/plain": [
       "3×3 Array{Int64,2}:\n",
       " 1  0  0\n",
       " 0  1  0\n",
       " 0  0  1"
      ]
     },
     "execution_count": 63,
     "metadata": {},
     "output_type": "execute_result"
    }
   ],
   "source": [
    "q = [0 0 1; 1 0 0; 0 1 0]\n",
    "transpose(q) * q"
   ]
  },
  {
   "cell_type": "markdown",
   "metadata": {},
   "source": [
    "Another example $Q = \\begin{bmatrix} \\cos\\theta & -\\sin\\theta \\\\ \\sin\\theta & \\cos\\theta\\end{bmatrix}$\n",
    "\n",
    "Another example $Q = \\frac1{\\sqrt{2}} \\begin{bmatrix} 1 & 1 \\\\ 1 & -1 \\end{bmatrix}$\n",
    "\n",
    "$Q = \\frac12 \\begin{bmatrix} 1 & 1 & 1 & 1 \\\\ 1 & -1 & 1 & -1 \\\\ 1 & 1 & -1 & -1 \\\\ 1 & -1 & -1 & 1\\end{bmatrix}$\n",
    "\n",
    "Another example, rectangular matrix $Q = \\frac13 \\begin{bmatrix} 1 & -2 \\\\ 2 & -1 \\\\ 2 & 2 \\end{bmatrix}$\n",
    "\n",
    "$Q = \\frac13 \\begin{bmatrix} 1 & -2 & 2 \\\\ 2 & -1 & -2\\\\ 2 & 2 & 1 \\end{bmatrix}$\n",
    "\n",
    "Suppose $Q$ has orthonormal columns, project onto its column space, \n",
    "\n",
    "$$P = Q(Q^TQ)^{-1}Q^T = QQ^T$$\n",
    "\n",
    "$QQ^T = I  \\text{if $Q$ is square}$\n",
    "\n",
    "$$P^2 = (QQ^T)(QQ^T) = QQ^T$$\n",
    "\n",
    "From the previous lecture\n",
    "\n",
    "$$A^TA \\hat x = A^Tb $$\n",
    "\n",
    "and now $A$ is $Q$ and $Q^TQ = I$\n",
    "\n",
    "$$Q^TQ \\hat x = Q^Tb $$\n",
    "\n",
    "$$\\hat x = Q^Tb $$\n",
    "\n",
    "that means $\\hat x_i = q_i^Tb$"
   ]
  },
  {
   "cell_type": "markdown",
   "metadata": {},
   "source": [
    "## Gram-Schmidt\n",
    "\n",
    "Gram-Schmidt tells us how to produce orthonormal vectors from independent vectors, $\\vec a, \\vec b$ $\\rightarrow$  $A, B$ which is perpendicular to each other\n",
    "\n",
    "Orthonormal\n",
    "\n",
    "$$ q_1 = \\frac A{\\lVert A \\rVert}, q_2 = \\frac B{\\lVert B \\rVert}$$\n",
    "\n",
    "$$A = a$$\n",
    "\n",
    "$$B = b - \\frac{A^Tb}{A^TA}A$$\n",
    "\n",
    "To check $A$ and $B$ is perpendicular, \n",
    "\n",
    "$$A^TB = A^T(b - \\frac{A^Tb}{A^TA}A) = A^Tb - \\frac{A^TbA^TA}{A^TA}$$\n",
    "\n",
    "$$A^TB = A^Tb - A^Tb = 0$$\n",
    "\n",
    "What if there is a third guy $C$,\n",
    "\n",
    "$$q_3 = \\frac C{\\lVert C \\rVert}$$\n",
    "\n",
    "We want to substract componenet $A$ and $B$ out of $C$,\n",
    "\n",
    "$$C = c - \\frac{A^Tc}{A^TA}A - \\frac{B^Tc}{B^TB}B$$\n",
    "\n",
    "$C$ is perpendicular to $A$ and $B$\n"
   ]
  },
  {
   "cell_type": "markdown",
   "metadata": {},
   "source": [
    "### Example\n",
    "\n",
    "$$a = \\begin{bmatrix} 1 \\\\ 1 \\\\ 1 \\end{bmatrix}, b = \\begin{bmatrix} 1 \\\\ 0 \\\\ 2 \\end{bmatrix}$$\n",
    "\n",
    "$A^TA = 3, A^Tb = 3$\n",
    "\n",
    "$$ A = a = \\begin{bmatrix} 1 \\\\ 1 \\\\ 1 \\end{bmatrix}, B = \\begin{bmatrix} 1 \\\\ 0 \\\\ 2 \\end{bmatrix} - \\frac33 \\begin{bmatrix} 1 \\\\ 1 \\\\ 1 \\end{bmatrix} $$\n",
    "\n",
    "$$ B = \\begin{bmatrix} 0 \\\\ -1 \\\\ 1 \\end{bmatrix} $$\n",
    "\n",
    "Check perpendicular\n",
    "\n",
    "$$A.B = \\begin{bmatrix} 1 \\\\ 1 \\\\ 1 \\end{bmatrix} . \\begin{bmatrix} 0 \\\\ -1 \\\\ 1 \\end{bmatrix} = 0$$\n",
    "\n",
    "$$Q = \\begin{bmatrix} \\frac{1}{\\sqrt{3}} & 0 \\\\ \\frac{1}{\\sqrt{3}} & \\frac{-1}{\\sqrt{2}} \\\\ \\frac{1}{\\sqrt{3}} & \\frac{1}{\\sqrt{2}} \\end{bmatrix}$$\n",
    "\n",
    "A, B, a, b are in the same column space, we just abstract 90 degree out of it.\n",
    "\n"
   ]
  },
  {
   "cell_type": "code",
   "execution_count": 64,
   "metadata": {},
   "outputs": [
    {
     "data": {
      "text/plain": [
       "gram_schmidt (generic function with 1 method)"
      ]
     },
     "execution_count": 64,
     "metadata": {},
     "output_type": "execute_result"
    }
   ],
   "source": [
    "function gram_schmidt(a; tol=1e-10)\n",
    "    q = []\n",
    "    for i = 1:length(a)\n",
    "        qtilde = a[i]\n",
    "        for j = 1:i-1\n",
    "            qtilde -= (q[j]'*a[i]) * q[j]\n",
    "        end\n",
    "        if norm(qtilde) < tol\n",
    "            println(\"Vectors are linearly dependent\")\n",
    "            return q\n",
    "        end\n",
    "        push!(q, qtilde/norm(qtilde))\n",
    "    end\n",
    "    return q\n",
    "end"
   ]
  },
  {
   "cell_type": "code",
   "execution_count": 65,
   "metadata": {},
   "outputs": [
    {
     "data": {
      "text/plain": [
       "2-element Array{Any,1}:\n",
       " [0.5773502691896258, 0.5773502691896258, 0.5773502691896258]\n",
       " [-1.570092458683775e-16, -0.7071067811865477, 0.7071067811865474]"
      ]
     },
     "execution_count": 65,
     "metadata": {},
     "output_type": "execute_result"
    }
   ],
   "source": [
    "a = [1; 1; 1]\n",
    "b = [1; 0; 2]\n",
    "v = [a, b]\n",
    "q = gram_schmidt(v)"
   ]
  },
  {
   "cell_type": "code",
   "execution_count": 66,
   "metadata": {},
   "outputs": [
    {
     "data": {
      "text/plain": [
       "3-element Array{Float64,1}:\n",
       " -1.570092458683775e-16\n",
       " -0.7071067811865477\n",
       "  0.7071067811865474"
      ]
     },
     "execution_count": 66,
     "metadata": {},
     "output_type": "execute_result"
    }
   ],
   "source": [
    "A = q[1]\n",
    "B = q[2]"
   ]
  },
  {
   "cell_type": "code",
   "execution_count": 67,
   "metadata": {},
   "outputs": [
    {
     "data": {
      "text/plain": [
       "-3.3306690738754696e-16"
      ]
     },
     "execution_count": 67,
     "metadata": {},
     "output_type": "execute_result"
    }
   ],
   "source": [
    "using LinearAlgebra\n",
    "dot(A,B)  # zero, perpendicular"
   ]
  },
  {
   "cell_type": "markdown",
   "metadata": {},
   "source": [
    "$$A = LU$$\n",
    "\n",
    "$$A = QR$$\n",
    "\n",
    "turn out $R$ is upper triangle that connects $A$ and $Q$"
   ]
  },
  {
   "cell_type": "code",
   "execution_count": null,
   "metadata": {},
   "outputs": [],
   "source": []
  }
 ],
 "metadata": {
  "kernelspec": {
   "display_name": "Julia 1.5.0",
   "language": "julia",
   "name": "julia-1.5"
  },
  "language_info": {
   "file_extension": ".jl",
   "mimetype": "application/julia",
   "name": "julia",
   "version": "1.5.0"
  }
 },
 "nbformat": 4,
 "nbformat_minor": 4
}
