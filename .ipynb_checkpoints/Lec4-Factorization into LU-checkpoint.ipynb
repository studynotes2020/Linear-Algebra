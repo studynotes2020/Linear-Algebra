{
 "cells": [
  {
   "cell_type": "markdown",
   "metadata": {},
   "source": [
    "- Inverse of AB, $A^{T}$\n",
    "- Product of elimination matrices\n",
    "- A = LU  # U is triangular matrix"
   ]
  },
  {
   "cell_type": "markdown",
   "metadata": {},
   "source": [
    "## Inverse of AB,  $A^{T}$\n",
    "\n",
    "Suppose A is invertible <br>\n",
    "$AA^{-1} = I = A^{-1}A$\n",
    "\n",
    "Inverse of $AB, (AB)^{-1}$ is $B^{-1}A^{-1}$ because<br>\n",
    "$(AB)(B^{-1}A^{-1}) = I$\n",
    "\n",
    "Starts with $AA^{-1} = I$, <br>\n",
    "suppose transpose both sides, identity matrix remains <br>\n",
    "transpose on left sides comes in reverse order\n",
    "\n",
    "$(A^{-1})^{T}A^{T} = I$\n",
    "\n",
    "so $(A^{-1})^{T}$ is also $(A^{T})^{-1}$ because it multiplies $A^{T}$ get $I$"
   ]
  },
  {
   "cell_type": "code",
   "execution_count": 55,
   "metadata": {},
   "outputs": [
    {
     "data": {
      "text/plain": [
       "2×2 Array{Int64,2}:\n",
       " 2  1\n",
       " 0  3"
      ]
     },
     "execution_count": 55,
     "metadata": {},
     "output_type": "execute_result"
    }
   ],
   "source": [
    "A = [2 1; 8 7]\n",
    "U = [2 1; 0 3]"
   ]
  },
  {
   "cell_type": "code",
   "execution_count": 56,
   "metadata": {},
   "outputs": [
    {
     "data": {
      "text/plain": [
       "2×2 Array{Int64,2}:\n",
       "  1  0\n",
       " -4  1"
      ]
     },
     "execution_count": 56,
     "metadata": {},
     "output_type": "execute_result"
    }
   ],
   "source": [
    "# Call E21 because eliminate entry of A21\n",
    "E21 = [1 0; -4 1]"
   ]
  },
  {
   "cell_type": "code",
   "execution_count": 57,
   "metadata": {},
   "outputs": [
    {
     "data": {
      "text/plain": [
       "true"
      ]
     },
     "execution_count": 57,
     "metadata": {},
     "output_type": "execute_result"
    }
   ],
   "source": [
    "E21 * A == U"
   ]
  },
  {
   "cell_type": "code",
   "execution_count": 58,
   "metadata": {},
   "outputs": [
    {
     "data": {
      "text/plain": [
       "2×2 Array{Float64,2}:\n",
       " 1.0  0.0\n",
       " 4.0  1.0"
      ]
     },
     "execution_count": 58,
     "metadata": {},
     "output_type": "execute_result"
    }
   ],
   "source": [
    "A = [2 1; 8 7]\n",
    "U = [2 1; 0 3]  # upper triangle\n",
    "# A = LU find L\n",
    "# L is inverse of E21\n",
    "L = inv(E21)  # lower triangle"
   ]
  },
  {
   "cell_type": "code",
   "execution_count": 59,
   "metadata": {},
   "outputs": [
    {
     "data": {
      "text/plain": [
       "true"
      ]
     },
     "execution_count": 59,
     "metadata": {},
     "output_type": "execute_result"
    }
   ],
   "source": [
    "A == L*U"
   ]
  },
  {
   "cell_type": "code",
   "execution_count": 60,
   "metadata": {},
   "outputs": [
    {
     "data": {
      "text/plain": [
       "2×2 Array{Float64,2}:\n",
       " 2.0  1.0\n",
       " 0.0  3.0"
      ]
     },
     "execution_count": 60,
     "metadata": {},
     "output_type": "execute_result"
    }
   ],
   "source": [
    "# Divide U into two matrices\n",
    "D = [2 0; 0 3]\n",
    "U2 = [1 1/2; 0 1]\n",
    "D*U2  # which is equal to U"
   ]
  },
  {
   "cell_type": "code",
   "execution_count": 61,
   "metadata": {},
   "outputs": [
    {
     "data": {
      "text/plain": [
       "true"
      ]
     },
     "execution_count": 61,
     "metadata": {},
     "output_type": "execute_result"
    }
   ],
   "source": [
    "A == L * D * U2"
   ]
  },
  {
   "cell_type": "markdown",
   "metadata": {},
   "source": [
    "To produce U, eliminate A[2,1] then A[3,1] then A[3,2] <br>\n",
    "$E_{32}E_{31}E_{21}A = U$, (no row exchange)\n",
    "\n",
    "$A = E_{21}^{-1}E_{31}^{-1}E_{32}^{-1}U = LU $ <br>\n",
    "\n",
    "L is the product of the inverses\n",
    "\n",
    "Suppose\n",
    "$ E_{21} = \\begin{bmatrix} 1 & 0 & 0 \\\\ -2 & 1 & 0 \\\\ 0 & 0 & 1 \\end{bmatrix},\n",
    "E_{31} = \\begin{bmatrix} 1 & 0 & 0 \\\\ 0 & 1 & 0 \\\\ 0 & 0 & 1 \\end{bmatrix}, \n",
    "E_{32} = \\begin{bmatrix} 1 & 0 & 0 \\\\ 0 & 1 & 0 \\\\ 0 & -5 & 1 \\end{bmatrix}$\n"
   ]
  },
  {
   "cell_type": "code",
   "execution_count": 62,
   "metadata": {},
   "outputs": [
    {
     "data": {
      "text/plain": [
       "3×3 Array{Int64,2}:\n",
       "  1   0  0\n",
       " -2   1  0\n",
       " 10  -5  1"
      ]
     },
     "execution_count": 62,
     "metadata": {},
     "output_type": "execute_result"
    }
   ],
   "source": [
    "E32 = [1 0 0; 0 1 0; 0 -5 1]\n",
    "E21 = [1 0 0;-2 1 0; 0 0 1]\n",
    "E32*E21  # left of A => EA = U"
   ]
  },
  {
   "cell_type": "code",
   "execution_count": 63,
   "metadata": {},
   "outputs": [
    {
     "data": {
      "text/plain": [
       "3×3 Array{Float64,2}:\n",
       " 1.0  0.0  0.0\n",
       " 2.0  1.0  0.0\n",
       " 0.0  0.0  1.0"
      ]
     },
     "execution_count": 63,
     "metadata": {},
     "output_type": "execute_result"
    }
   ],
   "source": [
    "inv_E21 = inv(E21)   # notice -2 bcm +2"
   ]
  },
  {
   "cell_type": "code",
   "execution_count": 64,
   "metadata": {},
   "outputs": [
    {
     "data": {
      "text/plain": [
       "3×3 Array{Float64,2}:\n",
       " 1.0  0.0  0.0\n",
       " 0.0  1.0  0.0\n",
       " 0.0  5.0  1.0"
      ]
     },
     "execution_count": 64,
     "metadata": {},
     "output_type": "execute_result"
    }
   ],
   "source": [
    "inv_E32 = inv(E32)  # notice -5 bcm +5"
   ]
  },
  {
   "cell_type": "code",
   "execution_count": 66,
   "metadata": {},
   "outputs": [
    {
     "data": {
      "text/plain": [
       "3×3 Array{Float64,2}:\n",
       " 1.0  0.0  0.0\n",
       " 2.0  1.0  0.0\n",
       " 0.0  5.0  1.0"
      ]
     },
     "execution_count": 66,
     "metadata": {},
     "output_type": "execute_result"
    }
   ],
   "source": [
    "inv_E21 * inv_E32  # left of U => A = LU"
   ]
  },
  {
   "cell_type": "markdown",
   "metadata": {},
   "source": [
    "$A = LU$ <br>\n",
    "If no row exchange, multipliers go directly into L\n",
    "\n",
    "How many operations on n x n matrix A to decompose A into LU? Let say n = 100 <br>\n",
    "operations are multiply and subtract\n",
    "\n",
    "In the elimination process, start with [1,1] there are n rows, and each row has n elements, so $n^2$ operations to change $n^2$ elements \n",
    "\n",
    "Then eliminate [2,2] which is $(n-1)^2$ and so on... Number of operation is about $n^2 + (n-1)^2 + ... + 1 \\approx \\frac{1}{3} n^3$\n",
    "\n",
    "In short, we pay the price of $\\frac{1}{3} n^3$ to decompe $A$ into $LU$ and then less cost when doing elimination process on b, which has only one column, is $n^2$"
   ]
  },
  {
   "cell_type": "markdown",
   "metadata": {},
   "source": [
    "### Permutations 3x3, Six P\n",
    "\n",
    "Doesn't exchange anything $I = \\begin{bmatrix} 1 & 0 & 0 \\\\ 0 & 1 & 0 \\\\ 0 & 0 & 1 \\end{bmatrix}$\n",
    "\n",
    "Exchange row 1 and 2, $P_{12} = \\begin{bmatrix} 0 & 1 & 0 \\\\ 1 & 0 & 0 \\\\ 0 & 0 & 1 \\end{bmatrix}$. To exchange back, it is its own inverse\n",
    "\n",
    "Exchange row 1 and 3, $P_{13} = \\begin{bmatrix} 0 & 0 & 1 \\\\ 0 & 1 & 0 \\\\ 1 & 0 & 0 \\end{bmatrix}$\n",
    "\n",
    "Exchange row 2 and 3, $P_{23} = \\begin{bmatrix} 1 & 0 & 0 \\\\ 0 & 0 & 1 \\\\ 0 & 1 & 0 \\end{bmatrix}$\n",
    "\n",
    "Exchange all rows, $P_{231} = \\begin{bmatrix} 0 & 1 & 0 \\\\ 0 & 0 & 1 \\\\ 1 & 0 & 0 \\end{bmatrix}, P_{312} = \\begin{bmatrix} 0 & 0 & 1 \\\\ 1 & 0 & 0 \\\\ 0 & 1 & 0 \\end{bmatrix}$\n",
    "\n",
    "$P_{231}$ is inverse of $P_{312}$\n",
    "\n",
    "An interesting fact $P^{-1} = P^{T}$\n"
   ]
  },
  {
   "cell_type": "code",
   "execution_count": null,
   "metadata": {},
   "outputs": [],
   "source": []
  }
 ],
 "metadata": {
  "kernelspec": {
   "display_name": "Julia 1.5.0",
   "language": "julia",
   "name": "julia-1.5"
  },
  "language_info": {
   "file_extension": ".jl",
   "mimetype": "application/julia",
   "name": "julia",
   "version": "1.5.0"
  }
 },
 "nbformat": 4,
 "nbformat_minor": 4
}
