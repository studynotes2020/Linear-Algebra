{
 "cells": [
  {
   "cell_type": "markdown",
   "metadata": {},
   "source": [
    "- Linear Independence\n",
    "- Spanning a space\n",
    "- Basis and dimension"
   ]
  },
  {
   "cell_type": "markdown",
   "metadata": {},
   "source": [
    "Suppose A is m x n, with m < n (more unknowns than equations), then there are non-zero solutions to $Ax = 0$\n",
    "\n",
    "Reason: There will be free variables"
   ]
  },
  {
   "cell_type": "markdown",
   "metadata": {},
   "source": [
    "### Independence\n",
    "\n",
    "Vectors $x_1, x_2, ..., x_n$ are independent if no combination gives zero vector (except the zero comb.)\n",
    "\n",
    "$c_1x_1 + c_2x_2 + ... + c_nx_n \\neq 0$\n",
    "\n",
    "Suppose there are $v_1, v_2$ and $v_2 = 2v_1$, then $2v_1 - v_2 = 0$, so they are not independent.\n",
    "\n",
    "Suppose there are $v_1, v_2 = 0$, $0v_1 + any(v_2) = 0$, so they are dependence\n",
    "\n",
    "Suppose $A = \\begin{bmatrix} 2 & 1 & 2.5 \\\\ 1 & 2 & -1 \\end{bmatrix} \n",
    "\\begin{bmatrix} c_1 \\\\ c_2 \\\\ c_3 \\\\ \\end{bmatrix}$. When we have a matrix, we want to know column dependent or independent.\n",
    "\n",
    "The column are dependent if there is something in the nullspace. $Ax = 0$ shows some comb of columns in the nullspace, so columns are dependent.\n",
    "\n",
    "Repeat when $v_1, ..., v_n$ are columns of $A$.\n",
    "\n",
    "They are independent if nullspace of $A$ is zero vector. All columns are pivot columns, rank = n, no free variables, N(A) = {0}\n",
    "\n",
    "They are dependent if  $Ac = 0$ for some nonzero c. Rank < n, Yes free variables\n",
    "\n"
   ]
  },
  {
   "cell_type": "markdown",
   "metadata": {},
   "source": [
    "### Spanning a space\n",
    "Vectors $v_1, ..., v_l$ span a space means the space consists of all combinations of those vectors\n",
    "\n",
    "### Basis\n",
    "Basis for a space is a sequence of vectors $v_1, ..., v_d$ with 2 properties, \n",
    "1. They are independent\n",
    "2. They span the space\n",
    "\n",
    "If we know the basis of a subspace, we know everything about the subspace\n",
    "\n",
    "Example: Space is $R^3$. One basis is $\\begin{bmatrix} 1\\\\0\\\\0 \\end{bmatrix}, \\begin{bmatrix} 0\\\\1\\\\0 \\end{bmatrix}, \\begin{bmatrix} 0\\\\0\\\\1 \\end{bmatrix}$\n",
    "\n",
    "Suppose another vectors: $\\begin{bmatrix} 1\\\\1\\\\2 \\end{bmatrix}, \\begin{bmatrix} 2\\\\2\\\\5 \\end{bmatrix}$, they are independent but don't span the space\n",
    "\n",
    "Suppose another basis: $\\begin{bmatrix} 1\\\\1\\\\2 \\end{bmatrix}, \\begin{bmatrix} 2\\\\2\\\\5 \\end{bmatrix}, \\begin{bmatrix} 3\\\\3\\\\8 \\end{bmatrix}$. (Lecturer made a mistake here because first two rows are dependent, so these three column vector can't be independent)\n",
    "\n",
    "How to know whether they are basis? Do elimination, row reduction and find if any free variables or are all columns pivot columns. \n",
    "\n",
    "$R^n$ vectors give basis if the n x n matrix with those columns is invertible.\n",
    "\n",
    "Column vectors are independent so they are basis for the column space.\n",
    "\n",
    "Given a space ($R^3$ or $R^n$), every basis for the space has the same number of vectors. That number is the dimension of the space.\n",
    "\n",
    "independence -> spanning -> basis -> dimension\n",
    "\n",
    "\n",
    "\n",
    "\n"
   ]
  },
  {
   "cell_type": "markdown",
   "metadata": {},
   "source": [
    "Space is $C(A)$\n",
    "\n",
    "$A = \\begin{bmatrix} 1 & 2 & 3 & 1\\\\ 1 & 1 & 2 & 1 \\\\ 1 & 2 & 3 & 1 \\end{bmatrix}$\n",
    "\n",
    "Do they span the column space of the matrix? Yes\n",
    "\n",
    "Are they independent? No\n",
    "\n",
    "Tell me a basis for that column space -> Column 1 and 2 which are the pivot columns. The rank is 2. Column 1 and 3 is also another basis. \n",
    "\n",
    "Rank A = number of pivot columns = dimension of $C(A)$\n",
    "\n",
    "Another basis for the column space  will be $\\begin{bmatrix} 2 \\\\ 2 \\\\ 2 \\end{bmatrix}, \\begin{bmatrix} 7\\\\5\\\\7 \\end{bmatrix}$\n",
    "\n",
    "We know dim(A) is 2, and we have any 2 independent vectors, then they span the space\n",
    "\n",
    "dim C(A) = r\n",
    "\n",
    "Vector in the $N(A)$ is $\\begin{bmatrix} -1 \\\\ -1 \\\\ 1 \\\\ 0 \\end{bmatrix}, \\begin{bmatrix} -1 \\\\ 0 \\\\ 0 \\\\ 1 \\end{bmatrix}$\n",
    "\n",
    "Does this two vectors form a basis for the nullspace? In another words, does the nullspace consists of all combinations of these two vectors? Yes\n",
    "\n",
    "The dimension of the nullspace is the number of free variables = n-r\n",
    "\n"
   ]
  },
  {
   "cell_type": "code",
   "execution_count": null,
   "metadata": {},
   "outputs": [],
   "source": []
  }
 ],
 "metadata": {
  "kernelspec": {
   "display_name": "Julia 1.5.0",
   "language": "julia",
   "name": "julia-1.5"
  },
  "language_info": {
   "file_extension": ".jl",
   "mimetype": "application/julia",
   "name": "julia",
   "version": "1.5.0"
  }
 },
 "nbformat": 4,
 "nbformat_minor": 4
}
