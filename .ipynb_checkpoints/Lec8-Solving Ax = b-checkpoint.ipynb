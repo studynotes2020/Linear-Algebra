{
 "cells": [
  {
   "cell_type": "code",
   "execution_count": 9,
   "metadata": {},
   "outputs": [
    {
     "data": {
      "text/plain": [
       "3×4 Array{Int64,2}:\n",
       " 1  2  2   2\n",
       " 2  4  6   8\n",
       " 3  6  8  10"
      ]
     },
     "execution_count": 9,
     "metadata": {},
     "output_type": "execute_result"
    }
   ],
   "source": [
    "A = [1 2 2 2; 2 4 6 8; 3 6 8 10]"
   ]
  },
  {
   "cell_type": "markdown",
   "metadata": {},
   "source": [
    "Notice row1 + row2 = row3\n",
    "\n",
    "For $Ax = b$ to have solution, $b_1 + b_2 = b_3$. Or If some combination of left hand side gives zero, combination of right hand side should also give zero"
   ]
  },
  {
   "cell_type": "markdown",
   "metadata": {},
   "source": [
    "Augmented matrix $ \\left[\n",
    "\\begin{array}{cccc|c}\n",
    "1 & 2 & 2 & 2 & b_1 \\\\ 2 & 4 & 6 & 8 & b_2 \\\\ 3 & 6 & 8 & 10 & b_3 \n",
    "\\end{array}\\right]$\n",
    "$ \\rightarrow \\left[\n",
    "\\begin{array}{cccc|c}\n",
    "1 & 2 & 2 & 2 & b_1 \\\\ 0 & 0 & 2 & 4 & b_2 - 2b_1 \\\\ 0 & 0 & 2 & 4 & b_3 - 3b_1\n",
    "\\end{array}\\right]$ \n",
    "$ \\rightarrow \\left[\n",
    "\\begin{array}{cccc|c}\n",
    "1 & 2 & 2 & 2 & b_1 \\\\ 0 & 0 & 2 & 4 & b_2 - 2b_1 \\\\ 0 & 0 & 0 & 0 & b_3 - b_2 - b_1\n",
    "\\end{array}\\right]$\n",
    "\n",
    "$ 0 = b_3 - b_2 - b_1$ on the last equation\n",
    "\n",
    "Suppose $b = \\begin{bmatrix} 1 \\\\ 5 \\\\ 6 \\end{bmatrix}$, augmented matrix above becomes \n",
    "\n",
    "$\\rightarrow \\left[\\begin{array}{cccc|c}\n",
    "1 & 2 & 2 & 2 & 1 \\\\ 0 & 0 & 2 & 4 & 3 \\\\ 0 & 0 & 0 & 0 & 0 \\end{array}\\right]$"
   ]
  },
  {
   "cell_type": "markdown",
   "metadata": {},
   "source": [
    "### Solvability Condition on $b$\n",
    "\n",
    "$Ax = b$ is solvable when b is in $C(A)$. If there is a combination of rows of A gives zero row, then same comb. of entries of b must give 0\n",
    "\n",
    "To find complete solution to $Ax = b$, \n",
    "1. $x_{particular}$: set all free variables to zero, then solve $Ax = b$ for pivot variables. In the above matrix, col2 and col4 are free variables, so $x_2 = 0, x_4 = 0 \\rightarrow x_1 + 2x_3 = 1$ and $2x_3 = 3$ gives $x_1 = -2$ and $x_3 = 3/2$  $\\rightarrow x_p = \\begin{bmatrix}-2\\\\0\\\\3/2\\\\0\\end{bmatrix}$\n",
    "\n",
    "2. Find special solutions, take the combination and get $x_{nullspace}$\n",
    "3. $x_{complete} = x_{particular} + x_{nullspace}$ <br>\n",
    "$Ax_p = b$    particular<br>\n",
    "$Ax_n = 0$     nullspace (all comb. of special solutions) <br>\n",
    "$A(x_p + x_n) = b$ complete\n",
    "\n",
    "$x_{complete} = \\begin{bmatrix}-2\\\\0\\\\3/2\\\\0\\end{bmatrix} + c_1\\begin{bmatrix}-2\\\\1\\\\0\\\\0\\end{bmatrix} + c_2\\begin{bmatrix}2\\\\0\\\\-2\\\\1\\end{bmatrix}$\n",
    "\n",
    "There are two special solutions because there are two free variables. All combination of special solutions give nullspace.\n",
    "\n",
    "Plot all solutions $x$ is $R^4$. A plane shifted away from origin by $x_p$ and a plane formed by $x_n$ intersect with $x_p$\n"
   ]
  },
  {
   "cell_type": "markdown",
   "metadata": {},
   "source": [
    "### Full Column Rank\n",
    "\n",
    "m by n matrix A of rank r\n",
    "\n",
    "I know $r \\leq m, r \\leq n$. Full column rank means $r=n$: All columns have pivot, no free variables. $N(A)$ is only the zero vector. Another words, unique solution if it exists. 0 or 1 solution to $Ax = b$: $x = x_p$\n",
    "\n"
   ]
  },
  {
   "cell_type": "code",
   "execution_count": 10,
   "metadata": {},
   "outputs": [
    {
     "data": {
      "text/plain": [
       "4×2 Array{Int64,2}:\n",
       " 1  3\n",
       " 2  1\n",
       " 6  1\n",
       " 5  1"
      ]
     },
     "execution_count": 10,
     "metadata": {},
     "output_type": "execute_result"
    }
   ],
   "source": [
    "A = [1 3; 2 1; 6 1; 5 1]"
   ]
  },
  {
   "cell_type": "code",
   "execution_count": 11,
   "metadata": {},
   "outputs": [
    {
     "data": {
      "text/plain": [
       "4×2 Array{Int64,2}:\n",
       " 1  0\n",
       " 0  1\n",
       " 0  0\n",
       " 0  0"
      ]
     },
     "execution_count": 11,
     "metadata": {},
     "output_type": "execute_result"
    }
   ],
   "source": [
    "R = [1 0; 0 1; 0 0; 0 0] # rref"
   ]
  },
  {
   "cell_type": "markdown",
   "metadata": {},
   "source": [
    "### Full Row Rank means $r=m$. \n",
    "\n",
    "Can solve $Ax = b$ for every. Solution exists.\n",
    "\n",
    "Left with n-r => n-m free varaibles\n",
    "\n"
   ]
  },
  {
   "cell_type": "markdown",
   "metadata": {},
   "source": [
    "### Full rank $r = m = n$\n",
    "\n",
    "means A is invertible\n",
    "\n",
    "$A = \\begin{bmatrix}1 & 2 \\\\ 3 & 1\\end{bmatrix}$\n",
    "\n",
    "$R = I$"
   ]
  },
  {
   "cell_type": "markdown",
   "metadata": {},
   "source": [
    "### Summary\n",
    "\n",
    "Full rank, r = m = n: $R = I$, 1 solution to $Ax = b$\n",
    "\n",
    "Full column rank, r = n < m: $R = \\begin{bmatrix}I \\\\ 0 \\end{bmatrix}$, 0 or 1 solution\n",
    "\n",
    "Full row rank, r = m < n: $R = \\begin{bmatrix}I & F \\end{bmatrix}$. F could be sort of partly into I if the first columns weren't the pivot columns. There is 1 or infinitely many solutions.\n",
    "\n",
    "r < m, r < n: $R = \\begin{bmatrix}I & F \\\\ 0 & 0 \\end{bmatrix}$. 0 or infinitely many solutions\n",
    "\n",
    "The rank tells you everything about the number of solutions, except the entries of the solution, for that you go to the matrix.\n"
   ]
  },
  {
   "cell_type": "code",
   "execution_count": null,
   "metadata": {},
   "outputs": [],
   "source": []
  }
 ],
 "metadata": {
  "kernelspec": {
   "display_name": "Julia 1.5.0",
   "language": "julia",
   "name": "julia-1.5"
  },
  "language_info": {
   "file_extension": ".jl",
   "mimetype": "application/julia",
   "name": "julia",
   "version": "1.5.0"
  }
 },
 "nbformat": 4,
 "nbformat_minor": 4
}
