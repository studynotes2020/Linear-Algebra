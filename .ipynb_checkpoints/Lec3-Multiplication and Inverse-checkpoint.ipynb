{
 "cells": [
  {
   "cell_type": "markdown",
   "metadata": {},
   "source": [
    "- Matrix multiplication (4 ways)\n",
    "- Inverse of A, AB, $A^{T}$\n",
    "- Gauss-Jordan/find $X^{-1}$"
   ]
  },
  {
   "cell_type": "markdown",
   "metadata": {},
   "source": [
    "### Four Ways of Matrix Multiplication \n",
    "\n",
    "A\\*B = C\n",
    "\n",
    "1. C<sub>34</sub> = (row 3 of A) . (column 4 of B) <br>\n",
    "C<sub>34</sub> = a<sub>31</sub>*b<sub>14</sub> + a<sub>32</sub>*b<sub>24</sub> + ... = $\\sum_{k=1}^n a_{3k} b_{k4}$ <br> A is m\\*n matrix, B is n\\*p matrix then result is m\\*p matrix C\n",
    "2. Columns of C are combinations of columns of A\n",
    "3. Rows of C are combinations of rows of A\n",
    "4. AB = sum of (cols of A) * (rows of B)\n",
    "\n"
   ]
  },
  {
   "cell_type": "code",
   "execution_count": 19,
   "metadata": {},
   "outputs": [
    {
     "data": {
      "text/plain": [
       "3×2 Array{Int64,2}:\n",
       " 2  12\n",
       " 3  18\n",
       " 4  24"
      ]
     },
     "execution_count": 19,
     "metadata": {},
     "output_type": "execute_result"
    }
   ],
   "source": [
    "A = [2;3;4]\n",
    "B = [1 6]\n",
    "A*B  # observe the result from 2, 3 above"
   ]
  },
  {
   "cell_type": "code",
   "execution_count": 20,
   "metadata": {},
   "outputs": [
    {
     "data": {
      "text/plain": [
       "3×2 Array{Int64,2}:\n",
       " 2  12\n",
       " 3  18\n",
       " 4  24"
      ]
     },
     "execution_count": 20,
     "metadata": {},
     "output_type": "execute_result"
    }
   ],
   "source": [
    "A = [2 7;3 8;4 9]\n",
    "B = [1 6;0 0]\n",
    "A*B"
   ]
  },
  {
   "cell_type": "markdown",
   "metadata": {},
   "source": [
    "AB = sum of (cols of A) * (rows of B)\n",
    "\n",
    "$\\bigl(\\begin{smallmatrix}\n",
    "2 & 7 \\\\ 3 & 8\\\\ 4 & 9 \\end{smallmatrix}\\bigr) \n",
    "\\bigl(\\begin{smallmatrix}\n",
    "1 & 6 \\\\ 0 & 0 \\end{smallmatrix}\\bigr) =\n",
    "\\bigl(\\begin{smallmatrix}\n",
    "2 \\\\ 3 \\\\ 4 \\end{smallmatrix} \\bigr)\n",
    "\\bigl(\\begin{smallmatrix}\n",
    "1 & 6 \\end{smallmatrix} \\bigr) + \n",
    "\\bigl(\\begin{smallmatrix}\n",
    "7 \\\\ 8 \\\\ 9 \\end{smallmatrix} \\bigr)\n",
    "\\bigl(\\begin{smallmatrix}\n",
    "0 & 0 \\end{smallmatrix} \\bigr)$ "
   ]
  },
  {
   "cell_type": "markdown",
   "metadata": {},
   "source": [
    "Block\n",
    "\n",
    "\n",
    "$ \\left[\n",
    "\\begin{array}{@{}c|c@{}}\n",
    "A_1 & A_2 \\\\ \\hline\n",
    "A_3 & A_4\n",
    "\\end{array}\\right]$\n",
    "$ \\left[\n",
    "\\begin{array}{@{}c|c@{}}\n",
    "B_1 & B_2 \\\\ \\hline\n",
    "B_3 & B_4\n",
    "\\end{array}\\right]$\n",
    "$ =\\left[\n",
    "\\begin{array}{@{}c|c@{}}\n",
    "A_1B_1 + A_2B_3 & A_1B_2 + A_2B_4 \\\\ \\hline\n",
    "A_3B_1 + A_4B_3 & A_3B_2 + A_4B_4\n",
    "\\end{array}\\right]$\n",
    "\n"
   ]
  },
  {
   "cell_type": "markdown",
   "metadata": {},
   "source": [
    "### Inverses (square matrices)"
   ]
  },
  {
   "cell_type": "markdown",
   "metadata": {},
   "source": [
    "If $A^{-1}$ exists, $A^{-1}A = I$ is true and $AA^{-1} = I$ is true too <br>\n",
    "A is invertible and non-singular\n",
    "\n"
   ]
  },
  {
   "cell_type": "code",
   "execution_count": 21,
   "metadata": {},
   "outputs": [
    {
     "data": {
      "text/plain": [
       "2×2 Array{Int64,2}:\n",
       " 1  3\n",
       " 2  6"
      ]
     },
     "execution_count": 21,
     "metadata": {},
     "output_type": "execute_result"
    }
   ],
   "source": [
    "# Singular case, no inverse\n",
    "A = [1 3; 2 6]"
   ]
  },
  {
   "cell_type": "markdown",
   "metadata": {},
   "source": [
    "There is no inverse, if you can find a vector x with $AX = 0$"
   ]
  },
  {
   "cell_type": "code",
   "execution_count": 22,
   "metadata": {},
   "outputs": [
    {
     "data": {
      "text/plain": [
       "2-element Array{Int64,1}:\n",
       " 0\n",
       " 0"
      ]
     },
     "execution_count": 22,
     "metadata": {},
     "output_type": "execute_result"
    }
   ],
   "source": [
    "x = [3; -1]\n",
    "A*x"
   ]
  },
  {
   "cell_type": "markdown",
   "metadata": {},
   "source": [
    "$A^{-1}AX = 0$, if A is invertible then <br>\n",
    "\n",
    "$IX = 0$ but $X$ is not $\\begin{bmatrix}\n",
    "0 \\\\ 0 \\end{bmatrix} $, it is $\\begin{bmatrix}\n",
    "3\\\\ -1 \\end{bmatrix} $"
   ]
  },
  {
   "cell_type": "code",
   "execution_count": 23,
   "metadata": {},
   "outputs": [
    {
     "data": {
      "text/plain": [
       "2×2 Array{Int64,2}:\n",
       " 1  3\n",
       " 2  7"
      ]
     },
     "execution_count": 23,
     "metadata": {},
     "output_type": "execute_result"
    }
   ],
   "source": [
    "A = [1 3; 2 7]"
   ]
  },
  {
   "cell_type": "code",
   "execution_count": null,
   "metadata": {},
   "outputs": [],
   "source": []
  },
  {
   "cell_type": "markdown",
   "metadata": {},
   "source": [
    "$\\begin{bmatrix}\n",
    "1 & 3 \\\\ 2 & 7 \\end{bmatrix} $\n",
    "$\\begin{bmatrix}\n",
    "a & c \\\\ b & d \\end{bmatrix} = I$\n",
    "\n",
    "A * column j of $A^{-1}$ = column j of $I$\n",
    "\n",
    "Gauss-Jordan (solve 2 equations at once)\n",
    "\n",
    "$\\begin{bmatrix}\n",
    "1 & 3 \\\\ 2 & 7 \\end{bmatrix} $\n",
    "$\\begin{bmatrix}\n",
    "a \\\\ b\\end{bmatrix} = \n",
    "\\begin{bmatrix}\n",
    "1 \\\\ 0 \\end{bmatrix}$\n",
    "\n",
    "$\\begin{bmatrix}\n",
    "1 & 3 \\\\ 2 & 7 \\end{bmatrix} $\n",
    "$\\begin{bmatrix}\n",
    "c \\\\ d \\end{bmatrix} = \n",
    "\\begin{bmatrix}\n",
    "0 \\\\ 1 \\end{bmatrix}$\n",
    "\n",
    "Gauss-Jordan Idea, create an Augmented Matrix\n",
    "\n",
    "$\\begin{bmatrix}\n",
    "1 & 3 & 1 & 0 \\\\ 2 & 7 & 0 & 1 \\end{bmatrix} \n",
    "\\rightarrow \\begin{bmatrix}\n",
    "1 & 3 & 1 & 0 \\\\ 0 & 1 & -2 & 1 \\end{bmatrix} \n",
    "\\rightarrow \\begin{bmatrix}\n",
    "1 & 0 & 7 & -3 \\\\ 0 & 1 & -2 & 1 \\end{bmatrix} $\n",
    "\n",
    "$A^{-1} = \\begin{bmatrix}\n",
    "7 & -3 \\\\ -2 & 1 \\end{bmatrix} $\n",
    "\n",
    "\n"
   ]
  },
  {
   "cell_type": "code",
   "execution_count": 24,
   "metadata": {},
   "outputs": [
    {
     "data": {
      "text/plain": [
       "2×2 Array{Float64,2}:\n",
       "  7.0  -3.0\n",
       " -2.0   1.0"
      ]
     },
     "execution_count": 24,
     "metadata": {},
     "output_type": "execute_result"
    }
   ],
   "source": [
    "A = [1 3; 2 7]\n",
    "inv(A)"
   ]
  },
  {
   "cell_type": "markdown",
   "metadata": {},
   "source": [
    "$E \\begin{bmatrix}\n",
    "A & I \\end{bmatrix} \n",
    "= \\begin{bmatrix}\n",
    "I & A^{-1}  \\end{bmatrix} $\n",
    "\n",
    "$EA = I$ <br> \n",
    "tells us $E = A^{-1}$"
   ]
  },
  {
   "cell_type": "code",
   "execution_count": null,
   "metadata": {},
   "outputs": [],
   "source": []
  }
 ],
 "metadata": {
  "kernelspec": {
   "display_name": "Julia 1.5.0",
   "language": "julia",
   "name": "julia-1.5"
  },
  "language_info": {
   "file_extension": ".jl",
   "mimetype": "application/julia",
   "name": "julia",
   "version": "1.5.0"
  }
 },
 "nbformat": 4,
 "nbformat_minor": 4
}
