{
 "cells": [
  {
   "cell_type": "markdown",
   "metadata": {},
   "source": [
    "## Projections\n",
    "\n",
    "Projection matrix, $P = A(A^TA)^{-1}A^T$\n",
    "\n",
    "- If $b$ in column space $Pb = b$\n",
    "- If $b$ perpendicular to column space, that means $b$ has no component in the column space, $Pb = 0$\n",
    "\n",
    "We can verify the above two facts using knowledge from four fundamental subspaces.\n",
    "\n",
    "First, if $b$ is in the column space of $A$, b is some combs. of A -> $b = Ax$\n",
    "\n",
    "$$ Pb = A(A^TA)^{-1}A^TAx$$\n",
    "$$ Pb = Ax = b$$\n",
    "\n",
    "Second, what vectors are perpendicular to the column space? Vectors in the $N(A^T)$. If $b$ is in $N(A^T)$, $A^Tb = 0$\n",
    "\n",
    "$$ Pb = A(A^TA)^{-1}A^Tb = 0 $$\n",
    "\n",
    "\n",
    "Geometrically, think $b$ is a vector with component $p$  in column space and $e$ in $N(A^T)$ \n",
    "\n",
    "$$\\vec b = \\vec p + \\vec e$$\n",
    "\n",
    "$$\\vec e = \\vec b - \\vec p = b - Pb$$\n",
    "\n",
    "$$\\vec e = (I - P)b$$\n",
    "\n",
    "$(I - P)$ is also a projection into perpendicular space\n",
    "\n"
   ]
  },
  {
   "cell_type": "markdown",
   "metadata": {},
   "source": [
    "### Application - Linear Regression\n",
    "\n",
    "Find the best fitting line $y = C + Dt$, given three lines\n",
    "\n",
    "$$ C + D = 1$$\n",
    "$$ C + 2D = 2$$\n",
    "$$ C + 3D = 2$$\n",
    "\n",
    "$$\\begin{bmatrix} 1 & 1 \\\\ 1 & 2\\\\ 1 & 3 \\end{bmatrix}\n",
    "\\begin{bmatrix} C \\\\ D \\end{bmatrix} = \\begin{bmatrix} 1 \\\\ 2 \\\\ 2\\end{bmatrix}$$ \n",
    "\n",
    "Minimize $\\lVert Ax - b \\rVert ^2 = \\rVert e \\rVert ^2$, in the example, this means minimize $e_1^2 + e_2^2 + e_3^2$\n",
    "\n",
    "Find $\\hat x = \\begin{bmatrix} C \\\\ D \\end{bmatrix} $, $P$\n",
    "\n",
    "Lecturer called this the most important equation in statistic or in estimation  \n",
    "\n",
    "$$ A^TA\\hat x = A^Tb$$\n",
    "\n",
    "$$ A^TA = \\begin{bmatrix} 1&1&1 \\\\ 1&2&3 \\end{bmatrix}\n",
    "\\begin{bmatrix} 1&1 \\\\ 1&2 \\\\ 1&3 \\end{bmatrix} = \\begin{bmatrix} 3&6 \\\\ 6&14 \\end{bmatrix}$$\n",
    "\n",
    "$$ A^Tb = \\begin{bmatrix} 1&1&1 \\\\ 1&2&3 \\end{bmatrix}\n",
    "\\begin{bmatrix} 1 \\\\ 2 \\\\ 2 \\end{bmatrix} = \\begin{bmatrix} 5 \\\\ 11\\end{bmatrix}$$\n",
    "\n",
    "The normal equation is \n",
    "\n",
    "$$ 3C + 6D = 5$$\n",
    "$$ 6C + 14D = 11$$\n",
    "\n",
    "$D = 1/2, C = 2/3$\n",
    "\n",
    "Using Calculus method of minimizing\n",
    "\n",
    "Error function is $ (C + D - 1)^2 + (C + 2D - 2)^2 + (C + 3D - 2)^2$\n",
    "\n",
    "Partial differentiate the error function wrt to C equal to 0, and partial differentiate the error function wrt to D equal to 0, then we will get the normal equation as above.\n",
    "\n",
    "Finally, substitute C and D back to the equation\n",
    "\n",
    "$$ p = \\frac{2}{3} + \\frac{1}{2}t $$\n",
    "\n",
    "Get the nearest points of $\\vec b$ onto $\\vec p$ for t = 1, 2, 3 which is  $p_1 = 7/6, p_2 = 10/6, p_3 = 13/6$. Since $\\vec e = \\vec b - \\vec p$ and we have $b_1 = 1, b_2 = 2, b_3 = 2$\n",
    "\n",
    "$$ \\begin{bmatrix}e_1 \\\\ e_2 \\\\ e_3 \\end{bmatrix} = \\begin{bmatrix}1 - 7/6 \\\\ 2-10/6 \\\\ 2-13/6 \\end{bmatrix} = \\begin{bmatrix}-1/6 \\\\ 2/6 \\\\ -1/6 \\end{bmatrix}$$\n",
    "\n",
    "Take another look on the result $\\vec b = \\vec p + \\vec e$\n",
    "\n",
    "$$ \\begin{bmatrix}1 \\\\ 2 \\\\ 2 \\end{bmatrix} = \\begin{bmatrix} 7/6 \\\\ 10/6 \\\\ 13/6 \\end{bmatrix} + \\begin{bmatrix} -1/6 \\\\ 2/6 \\\\ -1/6 \\end{bmatrix}$$\n",
    "\n",
    "We can see that dot product of p and e is zero, so they are perpendicular. More generally, e is not just perpendicular to p but the whole column space span by $\\begin{bmatrix} 1 & 1 \\\\ 1 & 2\\\\ 1 & 3 \\end{bmatrix}$"
   ]
  },
  {
   "cell_type": "code",
   "execution_count": 14,
   "metadata": {},
   "outputs": [
    {
     "data": {
      "text/plain": [
       "0.0"
      ]
     },
     "execution_count": 14,
     "metadata": {},
     "output_type": "execute_result"
    }
   ],
   "source": [
    "using LinearAlgebra\n",
    "e = [-1/6; 2/6; -1/6]\n",
    "c = [1 1;1 2;1 3]\n",
    "dot(e, c[:,1])"
   ]
  },
  {
   "cell_type": "code",
   "execution_count": 15,
   "metadata": {},
   "outputs": [
    {
     "data": {
      "text/plain": [
       "0.0"
      ]
     },
     "execution_count": 15,
     "metadata": {},
     "output_type": "execute_result"
    }
   ],
   "source": [
    "dot(e, c[:,2])"
   ]
  },
  {
   "cell_type": "markdown",
   "metadata": {},
   "source": [
    "Two key equations\n",
    "\n",
    "$$\\begin{cases}\n",
    "A^TA \\hat x = A^T b \\\\ \n",
    "P = A \\hat x \n",
    "\\end{cases}\n",
    "$$"
   ]
  },
  {
   "cell_type": "markdown",
   "metadata": {},
   "source": [
    "### Proof\n",
    "\n",
    "If $A$ has independent columns, then $A^TA$ is invertible\n",
    "\n",
    "Suppose $A^TAx = 0$. I want to show x must be 0. \n",
    "\n",
    "If $A^TAx = 0$, how come x must be zero\n",
    "\n",
    "Trick: multiply both side by x transpose, \n",
    "\n",
    "$$x^T A^T Ax = 0$$\n",
    "$$ (Ax)^T Ax = 0$$\n",
    "\n",
    "The length sqaure is zero, so this tell us $Ax$ must be zero\n",
    "\n",
    "If $Ax = 0$ and $A$ has independent columns, then x must be zero\n",
    "\n",
    "The prove result tell us, we can do this, because $A$ has independent columns\n",
    "\n",
    "$$\\hat x = (A^TA)^{-1} A^T b$$"
   ]
  },
  {
   "cell_type": "markdown",
   "metadata": {},
   "source": [
    "Statement: Columns are definitely independent if they are perpendicular unit vectors\n",
    "\n",
    "perpendicular unit vectors is called orthonormal vectors\n",
    "\n",
    "Examples of orthonormal vectors\n",
    "\n",
    "$$\\begin{bmatrix} 1 \\\\ 0 \\\\ 0 \\end{bmatrix}, \\begin{bmatrix} 0 \\\\ 1 \\\\ 0 \\end{bmatrix}, \\begin{bmatrix} 0 \\\\ 0 \\\\ 1 \\end{bmatrix}$$\n",
    "\n",
    "$$\\begin{bmatrix} \\cos \\theta \\\\ \\sin \\theta \\end{bmatrix}, \\begin{bmatrix} -\\sin \\theta \\\\ \\cos \\theta \\end{bmatrix}$$"
   ]
  },
  {
   "cell_type": "code",
   "execution_count": null,
   "metadata": {},
   "outputs": [],
   "source": []
  }
 ],
 "metadata": {
  "kernelspec": {
   "display_name": "Julia 1.5.0",
   "language": "julia",
   "name": "julia-1.5"
  },
  "language_info": {
   "file_extension": ".jl",
   "mimetype": "application/julia",
   "name": "julia",
   "version": "1.5.0"
  }
 },
 "nbformat": 4,
 "nbformat_minor": 4
}
