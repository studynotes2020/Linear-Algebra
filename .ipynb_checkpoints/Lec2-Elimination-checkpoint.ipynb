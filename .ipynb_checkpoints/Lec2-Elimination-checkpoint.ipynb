{
 "cells": [
  {
   "cell_type": "markdown",
   "metadata": {},
   "source": [
    "- Elimination - Success, Failure\n",
    "- Back-substitution\n",
    "- Elimination matrices\n",
    "- Matrix multiplication"
   ]
  },
  {
   "cell_type": "code",
   "execution_count": 180,
   "metadata": {},
   "outputs": [
    {
     "data": {
      "text/plain": [
       "3×3 Array{Int64,2}:\n",
       " 1  2  1\n",
       " 3  8  1\n",
       " 0  4  1"
      ]
     },
     "execution_count": 180,
     "metadata": {},
     "output_type": "execute_result"
    }
   ],
   "source": [
    "b = [2;12;2]  # AX = b, solve for X\n",
    "A = [1 2 1; 3 8 1; 0 4 1]"
   ]
  },
  {
   "cell_type": "code",
   "execution_count": 181,
   "metadata": {},
   "outputs": [
    {
     "data": {
      "text/plain": [
       "3×3 Array{Int64,2}:\n",
       " 1  2   1\n",
       " 0  2  -2\n",
       " 0  4   1"
      ]
     },
     "execution_count": 181,
     "metadata": {},
     "output_type": "execute_result"
    }
   ],
   "source": [
    "# first row first element is the pivot\n",
    "# We want to eliminate [2][1] (make it zero), so multiplier is 3\n",
    "mult = A[1,1] > A[2,1] ? A[1,1] : A[2,1]  # 3\n",
    "A[2,:] = A[2,:] - mult * A[1,:]\n",
    "A"
   ]
  },
  {
   "cell_type": "code",
   "execution_count": 182,
   "metadata": {},
   "outputs": [
    {
     "data": {
      "text/plain": [
       "0"
      ]
     },
     "execution_count": 182,
     "metadata": {},
     "output_type": "execute_result"
    }
   ],
   "source": [
    "mult = A[2,1] > A[3,1] ? A[2,1] : A[3,1]\n",
    "# [3,1] already zero, program will have to look but now already eliminated"
   ]
  },
  {
   "cell_type": "code",
   "execution_count": 183,
   "metadata": {},
   "outputs": [
    {
     "data": {
      "text/plain": [
       "3×3 Array{Int64,2}:\n",
       " 1  2   1\n",
       " 0  2  -2\n",
       " 0  0   5"
      ]
     },
     "execution_count": 183,
     "metadata": {},
     "output_type": "execute_result"
    }
   ],
   "source": [
    "mult = A[2,2] > A[3,2] ? A[3,2] : A[2,2]  # 2\n",
    "A[3,:] = A[3,:] - A[2,:] * mult\n",
    "A  # this triangular matrix. Elimination to get from A to U"
   ]
  },
  {
   "cell_type": "markdown",
   "metadata": {},
   "source": [
    "If zero in first pivot position, exchange row\n",
    "\n",
    "If all zeroes in last row, failure, can't solve the system\n"
   ]
  },
  {
   "cell_type": "code",
   "execution_count": 184,
   "metadata": {},
   "outputs": [
    {
     "data": {
      "text/plain": [
       "3×4 Array{Int64,2}:\n",
       " 1  2  1   2\n",
       " 3  8  1  12\n",
       " 0  4  1   2"
      ]
     },
     "execution_count": 184,
     "metadata": {},
     "output_type": "execute_result"
    }
   ],
   "source": [
    "A = [1 2 1 2; 3 8 1 12; 0 4 1 2]  # Augmented matrix"
   ]
  },
  {
   "cell_type": "code",
   "execution_count": 185,
   "metadata": {},
   "outputs": [
    {
     "data": {
      "text/plain": [
       "3×4 Array{Int64,2}:\n",
       " 1  2   1  2\n",
       " 0  2  -2  6\n",
       " 0  4   1  2"
      ]
     },
     "execution_count": 185,
     "metadata": {},
     "output_type": "execute_result"
    }
   ],
   "source": [
    "mult = A[1,1] > A[2,1] ? A[1,1] : A[2,1]\n",
    "A[2,:] = A[2,:] - mult * A[1,:]\n",
    "A"
   ]
  },
  {
   "cell_type": "code",
   "execution_count": 186,
   "metadata": {},
   "outputs": [
    {
     "data": {
      "text/plain": [
       "3×4 Array{Int64,2}:\n",
       " 1  2   1    2\n",
       " 0  2  -2    6\n",
       " 0  0   5  -10"
      ]
     },
     "execution_count": 186,
     "metadata": {},
     "output_type": "execute_result"
    }
   ],
   "source": [
    "mult = A[2,2] > A[3,2] ? A[3,2] : A[2,2]  # 2\n",
    "A[3,:] = A[3,:] - A[2,:] * mult\n",
    "A "
   ]
  },
  {
   "cell_type": "markdown",
   "metadata": {},
   "source": [
    "Back-substitution: z = -2, y = 1, x = 2\n",
    "\n"
   ]
  },
  {
   "cell_type": "markdown",
   "metadata": {},
   "source": [
    "### Linear Combination of Columns\n",
    "\n",
    "$\\bigl(\\begin{smallmatrix}\n",
    "col1 & col2 & col3\n",
    "\\end{smallmatrix} \\bigr)$  $\\bigl(\\begin{smallmatrix}\n",
    "3 \\\\ 4 \\\\ 5\n",
    "\\end{smallmatrix} \\bigr)$ = 3\\*col1 + 4\\*col2 + 5\\*col3\n",
    "\n",
    "Matrix * Column = Column\n",
    "\n",
    "\n",
    "### Linear Combination of Rows\n",
    "\n",
    "1 * 3 multiply 3 * 3 matrix\n",
    "\n",
    "$\\bigl(\\begin{smallmatrix}\n",
    "1 & 2 & 7\n",
    "\\end{smallmatrix} \\bigr)$ $\\bigl(\\begin{smallmatrix}\n",
    "row1 \\\\ row2 \\\\ row3\n",
    "\\end{smallmatrix} \\bigr)$ = 1\\*row1 + 2\\*row2 + 7\\*row3\n",
    "\n",
    "It is combining to rows\n",
    "\n"
   ]
  },
  {
   "cell_type": "code",
   "execution_count": 187,
   "metadata": {},
   "outputs": [
    {
     "data": {
      "text/plain": [
       "3×3 Array{Int64,2}:\n",
       " 1  2  1\n",
       " 3  8  1\n",
       " 0  4  1"
      ]
     },
     "execution_count": 187,
     "metadata": {},
     "output_type": "execute_result"
    }
   ],
   "source": [
    "B = [1 2 1;3 8 1;0 4 1]"
   ]
  },
  {
   "cell_type": "code",
   "execution_count": 188,
   "metadata": {},
   "outputs": [
    {
     "data": {
      "text/plain": [
       "3×3 Array{Int64,2}:\n",
       " 1  2   1\n",
       " 0  2  -2\n",
       " 0  4   1"
      ]
     },
     "execution_count": 188,
     "metadata": {},
     "output_type": "execute_result"
    }
   ],
   "source": [
    "C = [1 2 1;0 2 -2;0 4 1]"
   ]
  },
  {
   "cell_type": "markdown",
   "metadata": {},
   "source": [
    "### Deduce Matrix E21 \n",
    "\n",
    "E21\\*B = C\n",
    "\n",
    "What matrix multiply B get us C. \n",
    "\n",
    "To select first row of B, so first row of E21 is [1 0 0] <br>\n",
    "To select third row of C, so third row of E21 is [0 0 1] <br>\n",
    "To eliminate [1,2], [1,2] is -3, then we can get 1 0 -> [-3 1 0]"
   ]
  },
  {
   "cell_type": "code",
   "execution_count": 204,
   "metadata": {},
   "outputs": [
    {
     "data": {
      "text/plain": [
       "true"
      ]
     },
     "execution_count": 204,
     "metadata": {},
     "output_type": "execute_result"
    }
   ],
   "source": [
    "E21 = [1 0 0; -3 1 0; 0 0 1]\n",
    "E21*B == C  # When doing elimination process, we are also finding E21"
   ]
  },
  {
   "cell_type": "code",
   "execution_count": 190,
   "metadata": {},
   "outputs": [
    {
     "data": {
      "text/plain": [
       "3×3 Array{Int64,2}:\n",
       " 1  2   1\n",
       " 0  2  -2\n",
       " 0  0   5"
      ]
     },
     "execution_count": 190,
     "metadata": {},
     "output_type": "execute_result"
    }
   ],
   "source": [
    "U = [1 2 1;0 2 -2;0 0 5]"
   ]
  },
  {
   "cell_type": "markdown",
   "metadata": {},
   "source": [
    "What matrix multiply C get D\n",
    "\n",
    "We don't change first row, so [1 0 0] <br>\n",
    "We don't change second row, so [0 1 0] <br>\n",
    "First row not involved, to eliminate [3,2], so [0 -2 1]"
   ]
  },
  {
   "cell_type": "code",
   "execution_count": 191,
   "metadata": {},
   "outputs": [
    {
     "data": {
      "text/plain": [
       "3×3 Array{Int64,2}:\n",
       " 1   0  0\n",
       " 0   1  0\n",
       " 0  -2  1"
      ]
     },
     "execution_count": 191,
     "metadata": {},
     "output_type": "execute_result"
    }
   ],
   "source": [
    "E32 = [1 0 0;0 1 0; 0 -2 1]"
   ]
  },
  {
   "cell_type": "code",
   "execution_count": 192,
   "metadata": {},
   "outputs": [
    {
     "data": {
      "text/plain": [
       "true"
      ]
     },
     "execution_count": 192,
     "metadata": {},
     "output_type": "execute_result"
    }
   ],
   "source": [
    "E32 * C == U"
   ]
  },
  {
   "cell_type": "code",
   "execution_count": 193,
   "metadata": {},
   "outputs": [
    {
     "data": {
      "text/plain": [
       "3×3 Array{Int64,2}:\n",
       " 1  2   1\n",
       " 0  2  -2\n",
       " 0  0   5"
      ]
     },
     "execution_count": 193,
     "metadata": {},
     "output_type": "execute_result"
    }
   ],
   "source": [
    "A = [1 2 1; 3 8 1; 0 4 1]\n",
    "E32*(E21*A)"
   ]
  },
  {
   "cell_type": "markdown",
   "metadata": {},
   "source": [
    "Suppose I have matrix A and U, may I know what matrix does the job at once? <br>\n",
    "Just multiply E32 and E21 first"
   ]
  },
  {
   "cell_type": "code",
   "execution_count": 194,
   "metadata": {},
   "outputs": [
    {
     "data": {
      "text/plain": [
       "3×3 Array{Int64,2}:\n",
       "  1   0  0\n",
       " -3   1  0\n",
       "  6  -2  1"
      ]
     },
     "execution_count": 194,
     "metadata": {},
     "output_type": "execute_result"
    }
   ],
   "source": [
    "E = E32*E21"
   ]
  },
  {
   "cell_type": "code",
   "execution_count": 195,
   "metadata": {},
   "outputs": [
    {
     "data": {
      "text/plain": [
       "3×3 Array{Int64,2}:\n",
       " 1  2   1\n",
       " 0  2  -2\n",
       " 0  0   5"
      ]
     },
     "execution_count": 195,
     "metadata": {},
     "output_type": "execute_result"
    }
   ],
   "source": [
    "E*A  # which is equal to U"
   ]
  },
  {
   "cell_type": "markdown",
   "metadata": {},
   "source": [
    "### Permutation\n",
    "Exchange rows 1 and 2"
   ]
  },
  {
   "cell_type": "code",
   "execution_count": 196,
   "metadata": {},
   "outputs": [
    {
     "data": {
      "text/plain": [
       "2×2 Array{Int64,2}:\n",
       " 9  4\n",
       " 2  3"
      ]
     },
     "execution_count": 196,
     "metadata": {},
     "output_type": "execute_result"
    }
   ],
   "source": [
    "P = [0 1; 1 0]\n",
    "A = [2 3; 9 4]\n",
    "P*A  # rows exchanged"
   ]
  },
  {
   "cell_type": "markdown",
   "metadata": {},
   "source": [
    "Switch to columns. How to exchange column 1 and 2? <br>\n",
    "If matrix at left, that is row operation, can't exchange columns <br>\n",
    "In order to exchange columns, the matrix should be on the right"
   ]
  },
  {
   "cell_type": "code",
   "execution_count": 197,
   "metadata": {},
   "outputs": [
    {
     "data": {
      "text/plain": [
       "2×2 Array{Int64,2}:\n",
       " 3  2\n",
       " 4  9"
      ]
     },
     "execution_count": 197,
     "metadata": {},
     "output_type": "execute_result"
    }
   ],
   "source": [
    "P = [0 1; 1 0]\n",
    "A = [2 3; 9 4]\n",
    "A*P  # columns exchanged"
   ]
  },
  {
   "cell_type": "markdown",
   "metadata": {},
   "source": [
    "In short, to do column operations, the matrix multiplies on the right <br>\n",
    "to do row operations, the matrix multiplies on the left\n",
    "\n",
    "A * B is not equal to B * A, though you can move the parenthesis\n"
   ]
  },
  {
   "cell_type": "markdown",
   "metadata": {},
   "source": [
    "### Another question to ask, if I have U, can I get back A?\n",
    "Inverses"
   ]
  },
  {
   "cell_type": "code",
   "execution_count": 198,
   "metadata": {},
   "outputs": [
    {
     "data": {
      "text/plain": [
       "3×3 Array{Int64,2}:\n",
       "  1  0  0\n",
       " -3  1  0\n",
       "  0  0  1"
      ]
     },
     "execution_count": 198,
     "metadata": {},
     "output_type": "execute_result"
    }
   ],
   "source": [
    "E21 = [1 0 0; -3 1 0; 0 0 1]  \n",
    "# find the matrix undoes elimination, and get back Identity"
   ]
  },
  {
   "cell_type": "code",
   "execution_count": 199,
   "metadata": {},
   "outputs": [
    {
     "data": {
      "text/plain": [
       "3×3 Array{Int64,2}:\n",
       " 1  0  0\n",
       " 3  1  0\n",
       " 0  0  1"
      ]
     },
     "execution_count": 199,
     "metadata": {},
     "output_type": "execute_result"
    }
   ],
   "source": [
    "# Add back what have been substracted\n",
    "InvE = [1 0 0; 3 1 0; 0 0 1]"
   ]
  },
  {
   "cell_type": "code",
   "execution_count": 200,
   "metadata": {},
   "outputs": [
    {
     "data": {
      "text/plain": [
       "3×3 Array{Int64,2}:\n",
       " 1  0  0\n",
       " 0  1  0\n",
       " 0  0  1"
      ]
     },
     "execution_count": 200,
     "metadata": {},
     "output_type": "execute_result"
    }
   ],
   "source": [
    "E21*InvE"
   ]
  },
  {
   "cell_type": "code",
   "execution_count": null,
   "metadata": {},
   "outputs": [],
   "source": []
  }
 ],
 "metadata": {
  "kernelspec": {
   "display_name": "Julia 1.5.0",
   "language": "julia",
   "name": "julia-1.5"
  },
  "language_info": {
   "file_extension": ".jl",
   "mimetype": "application/julia",
   "name": "julia",
   "version": "1.5.0"
  }
 },
 "nbformat": 4,
 "nbformat_minor": 4
}
