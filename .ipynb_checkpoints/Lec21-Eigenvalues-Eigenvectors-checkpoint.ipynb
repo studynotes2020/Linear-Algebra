{
 "cells": [
  {
   "cell_type": "markdown",
   "metadata": {},
   "source": [
    "- $det(A - \\lambda I) = 0$\n",
    "- $trace = \\lambda_1 + \\lambda_2 + ... + \\lambda_n$\n"
   ]
  },
  {
   "cell_type": "markdown",
   "metadata": {},
   "source": [
    "$$Ax = \\lambda x$$\n",
    "\n",
    "Apply A to the vector x, outcome a vector x in the same direction, with length multiply by $\\lambda$. This is not typical, as most vectors will change direction after A is applied\n",
    "\n",
    "If A is singular, $\\lambda = 0$ is eigenvalue, hence $Ax = 0$\n",
    "\n",
    "=================================================\n",
    "\n",
    "Try it with projection matrix first, $A = P$:\n",
    "\n",
    "What are $x$ and $\\lambda$ for projection matrix?\n",
    "\n",
    "Any x in the plane: $Px = x$, $\\lambda = 1$\n",
    "\n",
    "Any x perpendicular to the plane: $Px = 0x$, $\\lambda = 0$\n",
    "\n",
    "=================================================\n",
    "\n",
    "Try it with rotation matrix, $A = \\begin{bmatrix} 0 & 1 \\\\ 1 & 0 \\end{bmatrix}$\n",
    "\n",
    "$x = \\begin{bmatrix} 1 \\\\ 1 \\end{bmatrix}, Ax = \\begin{bmatrix} 1 \\\\ 1 \\end{bmatrix}, \\lambda = 1 \\implies Ax = x$\n",
    "\n",
    "Also, $x = \\begin{bmatrix} -1 \\\\ 1 \\end{bmatrix}, Ax = \\begin{bmatrix} 1 \\\\ -1 \\end{bmatrix}, \\lambda = -1 \\implies Ax = -x$\n",
    "\n",
    "Fact: Sum of $\\lambda = a_{11} + a_{22} + ... + a_{nn}$ sum of diagonal entries"
   ]
  },
  {
   "cell_type": "markdown",
   "metadata": {},
   "source": [
    "### How to solve $Ax = \\lambda x$\n",
    "\n",
    "Rewrite: $(A - \\lambda I) x = 0$\n",
    "\n",
    "$(A - \\lambda I)$ matrix must be singular, otherwise the only $x$ would be zero matrix, hence\n",
    "\n",
    "$det(A - \\lambda I) = 0$ find $\\lambda$ first by doing elimination\n",
    "\n",
    "Let say $A = \\begin{bmatrix} 3 & 1 \\\\ 1 & 3 \\end{bmatrix}$\n",
    "\n",
    "$$det(A - \\lambda I) = \\begin{vmatrix} 3 - \\lambda & 1 \\\\ 1 & 3 - \\lambda \\end{vmatrix}$$\n",
    "\n",
    "$$= \\lambda^2 - 6\\lambda + 8$$\n",
    "6 is trace, 8 is determinant\n",
    "\n",
    "$$= (\\lambda - 4)(\\lambda - 2)$$\n",
    "\n",
    "$$\\lambda_1 = 4, \\lambda_2 = 2$$\n",
    "\n",
    "$A - 4I = \\begin{bmatrix} -1 & 1 \\\\ 1 & -1 \\end{bmatrix}, x_1 = \\begin{bmatrix} 1 \\\\ 1 \\end{bmatrix}$. Do elimination and set free variable to 1\n",
    "\n",
    "$A - 2I = \\begin{bmatrix} 1 & 1 \\\\ 1 & 1 \\end{bmatrix}, x_2 = \\begin{bmatrix} -1 \\\\ 1 \\end{bmatrix}$. Do elimination and set free variable to 1\n",
    "\n",
    "\n",
    "Take this matrix $A = \\begin{bmatrix} 0 & 1 \\\\ 1 & 0 \\end{bmatrix}, \\lambda_1 x_1 = 1\\begin{bmatrix} 1 \\\\ 1 \\end{bmatrix}, \\lambda_2 x_2 = -1\\begin{bmatrix} -1 \\\\ 1 \\end{bmatrix}$\n",
    "\n",
    "How does this matrix related to the previous matrix, just 3 times $ A = A + 3I$\n",
    "\n",
    "It adds 3 to eigenvalues, but eigenvectors remain the same\n",
    "\n",
    "If $Ax = \\lambda x$, then $(A + 3I)x = \\lambda x + 3x = (\\lambda + 3) x$\n"
   ]
  },
  {
   "cell_type": "markdown",
   "metadata": {},
   "source": [
    "## Not so great\n",
    "\n",
    "If $Ax = \\lambda x$, $B$ has eigenvalues $\\alpha$ which means $Bx = \\alpha x$, then $(A + B)x = (\\lambda + \\alpha) x$\n",
    "\n",
    "But this is false\n",
    "\n",
    "We have no reason to belive x is both eigenvector of A and B. It might be a different eigenvector for B.\n",
    "\n"
   ]
  },
  {
   "cell_type": "markdown",
   "metadata": {},
   "source": [
    "### Example of Imaginery Eigenvalues\n",
    "\n",
    "Rotation 90, $Q = \\begin{bmatrix} 0 & -1 \\\\ 1 & 0\\end{bmatrix}$\n",
    "\n",
    "sum of eigenvalues is zero. trace = 0 + 0 = $\\lambda_1 + \\lambda_2$\n",
    "\n",
    "det = 1 = $\\lambda_1 \\lambda_2$\n",
    "\n",
    "$det(Q - \\lambda I) = \\begin{vmatrix} -\\lambda & -1 \\\\ 1 & -\\lambda \\end{vmatrix} = \\lambda^2 + 1 = 0$\n",
    "\n",
    "$\\lambda_1 = i, \\lambda_2 = -i$ this is consistent with trace and det"
   ]
  },
  {
   "cell_type": "markdown",
   "metadata": {},
   "source": [
    "### Example Degenerate Matrix\n",
    "\n",
    "$A = \\begin{bmatrix} 3 & 1 \\\\ 0 & 3 \\end{bmatrix}$\n",
    "\n",
    "$det(A - \\lambda I) = \\begin{vmatrix}3 - \\lambda & 1 \\\\ 0 & 3 - \\lambda \\end{vmatrix}$\n",
    "\n",
    "$\\lambda_1 = 3, \\lambda_2 = 3$\n",
    "\n",
    "$(A - \\lambda I)x = \\begin{bmatrix} 0 & 1 \\\\ 0 & 0 \\end{bmatrix} x = \\begin{bmatrix}0 \\\\ 0 \\end{bmatrix}$\n",
    "\n",
    "$x_1 = \\begin{bmatrix} 1 \\\\ 0 \\end{bmatrix}$, cannot get another independent vector for $x_2$, so this is a degenerate matrix\n",
    "\n",
    "2x2 matrix with only one independent eigenvector"
   ]
  },
  {
   "cell_type": "code",
   "execution_count": null,
   "metadata": {},
   "outputs": [],
   "source": []
  }
 ],
 "metadata": {
  "kernelspec": {
   "display_name": "Julia 1.5.0",
   "language": "julia",
   "name": "julia-1.5"
  },
  "language_info": {
   "file_extension": ".jl",
   "mimetype": "application/julia",
   "name": "julia",
   "version": "1.5.0"
  }
 },
 "nbformat": 4,
 "nbformat_minor": 4
}
