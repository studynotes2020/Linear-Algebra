{
 "cells": [
  {
   "cell_type": "markdown",
   "metadata": {},
   "source": [
    "- Bases of new vector spaces\n",
    "- Rank one matrices\n",
    "- Small world graphs"
   ]
  },
  {
   "cell_type": "markdown",
   "metadata": {},
   "source": [
    "New vector <br>\n",
    "$\\rightarrow$ $M$ = all 3 by 3 matrices, $dim(M) = 9$ <br>\n",
    "$\\rightarrow$ $S$ = all 3 by 3 symmetric matrices, $dim(S) = 6$ <br>\n",
    "$\\rightarrow$ $U$ = all 3 by 3 upper triangular matrices, $dim(U) = 6$ <br>\n",
    "\n",
    "Basis for $M$ = all 3x3\n",
    "\n",
    "Most obvious is \n",
    "$\\begin{bmatrix} 1 & 0 & 0\\\\ 0 & 0 & 0\\\\ 0 & 0 & 0\\end{bmatrix}, \n",
    "\\begin{bmatrix} 0 & 1 & 0\\\\ 0 & 0 & 0\\\\ 0 & 0 & 0\\end{bmatrix}, \n",
    "\\begin{bmatrix} 0 & 0 & 1\\\\ 0 & 0 & 0\\\\ 0 & 0 & 0\\end{bmatrix}, ... ,\n",
    "\\begin{bmatrix} 0 & 0 & 0\\\\ 0 & 0 & 0\\\\ 0 & 0 & 1\\end{bmatrix}$\n",
    "\n",
    "\n",
    "$S \\cap U$ = symmetric and upper triangular = diagonal 3x3, $dim(S \\cap U)$ = 3\n",
    "\n",
    "Why not interested in union? $S \\cup U$ is not subspace\n",
    "\n",
    "$S + U$ = any element of S + any element of U. (not just taking them like union, but plus them) = all 3x3 matrices, $dim(S + U)$ = 9\n",
    "\n",
    "$dim(S) + dim(U) = dim(S \\cap U) + dim(S + U)$ => 6 + 6 = 3 + 9\n",
    "\n"
   ]
  },
  {
   "cell_type": "markdown",
   "metadata": {},
   "source": [
    "#### Differential equation\n",
    "\n",
    "$\\frac{d^2 y}{dx^2} + y = 0$\n",
    "\n",
    "Solution: $y = \\cos x, \\sin x, e^{ix}, e^{-ix}$\n",
    "\n",
    "Looking for a null space for a differential equation\n",
    "\n",
    "Complete solution: $y = c_1 \\cos x + c_2 \\sin x$\n",
    "\n",
    "What are the basis? $\\cos x, \\sin x$\n",
    "\n",
    "$dim(solution space) = 2$\n",
    "\n"
   ]
  },
  {
   "cell_type": "code",
   "execution_count": 1,
   "metadata": {},
   "outputs": [
    {
     "data": {
      "text/plain": [
       "2×3 Array{Int64,2}:\n",
       " 1  4   5\n",
       " 2  8  10"
      ]
     },
     "execution_count": 1,
     "metadata": {},
     "output_type": "execute_result"
    }
   ],
   "source": [
    "# Rank 1 matrices\n",
    "A = [1 4 5; 2 8 10]"
   ]
  },
  {
   "cell_type": "markdown",
   "metadata": {},
   "source": [
    "- The basis for row space is [1 4 5], second row is dependent\n",
    "- $dim C(A) = rank = dim C(A^T)$\n",
    "\n",
    "Rank 1 matrix have to form $A = uv^T$. It is the building blocks of all matrices. \n",
    "\n",
    "$M$ = all 5 x 17 matrices. Subset of rank 1 matrices is not a subspace. "
   ]
  },
  {
   "cell_type": "markdown",
   "metadata": {},
   "source": [
    "Suppose in $R^4$\n",
    "\n",
    "$v = \\begin{bmatrix} v_1 \\\\ v_2 \\\\ v_3 \\\\ v_4 \\end{bmatrix}$\n",
    "\n",
    "S = all $v$ in $R^4$ with $v_1 + v_2 + v_3 + v_4 = 0$ = nullspace of $A = \\begin{bmatrix} 1 & 1 & 1 & 1 \\end{bmatrix}$\n",
    "\n",
    "Rank, r = 1. $dim N(A) = n-r, n = 4, n - r = 3$\n",
    "\n",
    "Basis for S, (assign 1 then 0 to free variables, then solve for pivot)\n",
    "$\\begin{bmatrix} -1 \\\\ 1 \\\\ 0 \\\\ 0 \\end{bmatrix}, \\begin{bmatrix} -1 \\\\ 0 \\\\ 1 \\\\ 0 \\end{bmatrix}, \\begin{bmatrix} -1 \\\\ 0 \\\\ 0 \\\\ 1 \\end{bmatrix}$\n",
    "\n",
    "$C(A) = R^1, N(A^T) = 0$ <br>\n",
    "\n",
    "dim column space = 3, dim null space = 1 = n <br>\n",
    "dim row space = 1, dim of null row space = 0 = m\n"
   ]
  },
  {
   "cell_type": "markdown",
   "metadata": {},
   "source": [
    "### Graph\n",
    "\n",
    "A bunch of nodes and edges"
   ]
  }
 ],
 "metadata": {
  "kernelspec": {
   "display_name": "Julia 1.5.0",
   "language": "julia",
   "name": "julia-1.5"
  },
  "language_info": {
   "file_extension": ".jl",
   "mimetype": "application/julia",
   "name": "julia",
   "version": "1.5.0"
  }
 },
 "nbformat": 4,
 "nbformat_minor": 4
}
