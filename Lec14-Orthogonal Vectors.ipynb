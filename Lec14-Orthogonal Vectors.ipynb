{
 "cells": [
  {
   "cell_type": "markdown",
   "metadata": {},
   "source": [
    "### Orthogonal Vectors\n",
    "\n",
    "$x^Ty = 0$\n",
    "\n",
    "Pythagoras Theorem: $\\lVert x\\rVert^2 + \\lVert y\\rVert^2 = \\lVert x+y\\rVert^2$\n",
    "\n",
    "Check with numbers <br>\n",
    "\n",
    "$x=\\begin{bmatrix}1 \\\\2 \\\\ 3 \\end{bmatrix}, y=\\begin{bmatrix}2 \\\\-1 \\\\ 0 \\end{bmatrix}, x + y = \\begin{bmatrix}3 \\\\1 \\\\ 3 \\end{bmatrix}$\n",
    "\n",
    "$\\lVert x\\rVert^2 = 14, \\lVert y\\rVert^2 = 5, \\lVert x+y\\rVert^2 = 19$\n",
    "\n",
    "<br>\n",
    "\n",
    "If x is orthogonal to y, it obeys Pythagoras theorem:\n",
    "\n",
    "$\\lVert x\\rVert^2 + \\lVert y\\rVert^2 = \\lVert x+y\\rVert^2$\n",
    "\n",
    "$x^Tx + y^Ty = (x + y)^T (x + y)$  expand right\n",
    "\n",
    "$x^Tx + y^Ty = x^Tx + y^Ty + x^Ty + y^Tx$\n",
    "\n",
    "$0 = 2x^Ty \\rightarrow x^Ty = 0$\n"
   ]
  },
  {
   "cell_type": "markdown",
   "metadata": {},
   "source": [
    "Subspace S is orthogonal to subspace T means every vector in S is orthogonal in every vector in T\n",
    "\n",
    "Fact: row space is orthogonal to null space. Why?\n",
    "\n",
    "We know $Ax = 0$\n",
    "\n",
    "$\\begin{bmatrix} row1 \\\\ row 2 \\\\ row 3 \\end{bmatrix}\n",
    "\\begin{bmatrix} col X \\end{bmatrix} = 0$\n",
    "\n",
    "Dot product of every row to column of X is always zero. \n",
    "\n",
    "If there are dependent rows: $(c1.row1 + c2.row2 ...)^Tx = 0$\n",
    "\n",
    "row space and null space are orthogonal complements in $R^n$\n",
    "\n",
    "Null space contains all vectors that are perpendicular to the row space\n",
    "\n"
   ]
  },
  {
   "cell_type": "markdown",
   "metadata": {},
   "source": [
    "### \"Solve\" $Ax = b$ when there is no solution\n",
    "\n",
    "m equations > n variables\n",
    "\n",
    "In many problems, there are many measurements but there are noise in b. We need to separate noise from the solution.\n",
    "\n",
    "$A^TA$ is square matrix, symmetric\n",
    "\n",
    "Check: $(A^TA)^T = A^TA$ is symmetric\n",
    "\n",
    "$A^T A \\hat x = A^T b$\n",
    "\n",
    "$Ax = b$ with more equations than variables\n",
    "\n",
    "$\\begin{bmatrix}1 & 1\\\\ 1 & 2\\\\ 1 & 5 \\end{bmatrix}\n",
    "\\begin{bmatrix} x_1 \\\\ x_2 \\end{bmatrix} = \\begin{bmatrix} b_1\\\\ b_2\\\\ b_3\\end{bmatrix}$\n",
    "\n",
    "We can only solve the equation, if b is in the column space but easily not\n",
    "\n",
    "$A^TA = \\begin{bmatrix}1 & 1 & 1\\\\ 1 & 2 & 5 \\end{bmatrix}\n",
    "\\begin{bmatrix}1 & 1\\\\ 1 & 2 \\\\ 1 & 5 \\end{bmatrix} = \\begin{bmatrix}3 & 8\\\\ 8 & 30 \\end{bmatrix}$ The result matrix is invertible (not always invertible)\n",
    "\n",
    "$A^TA = \\begin{bmatrix}1 & 1 & 1\\\\ 3 & 3 & 3 \\end{bmatrix}\n",
    "\\begin{bmatrix}1 & 3\\\\ 1 & 3 \\\\ 1 & 3 \\end{bmatrix} = \\begin{bmatrix}3 & 9\\\\ 9 & 27 \\end{bmatrix}$ Not invertible\n",
    "\n"
   ]
  },
  {
   "cell_type": "markdown",
   "metadata": {},
   "source": [
    "$N(A^TA) = N(A)$ \n",
    "\n",
    "rank of $N(A^TA)$ = rank of $A$\n",
    "\n",
    "$A^TA is invertible exactly if $A$ has independent columns"
   ]
  },
  {
   "cell_type": "code",
   "execution_count": null,
   "metadata": {},
   "outputs": [],
   "source": []
  }
 ],
 "metadata": {
  "kernelspec": {
   "display_name": "Julia 1.5.0",
   "language": "julia",
   "name": "julia-1.5"
  },
  "language_info": {
   "file_extension": ".jl",
   "mimetype": "application/julia",
   "name": "julia",
   "version": "1.5.0"
  }
 },
 "nbformat": 4,
 "nbformat_minor": 4
}
