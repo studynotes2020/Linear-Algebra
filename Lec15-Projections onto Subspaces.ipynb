{
 "cells": [
  {
   "cell_type": "markdown",
   "metadata": {},
   "source": [
    "## Projections!\n",
    "\n",
    "Suppose there are two vectors pointing at two different direction, $\\vec a$ and $\\vec b$. Where is the closest point from $\\vec b$ to $\\vec a$? \n",
    "\n",
    "That point is the projection of $\\vec b$ onto vector $\\vec a$, call it $\\vec p$ \n",
    "\n",
    "Where is the orthogonality? There is a line perpendicular to $\\vec a$ and connects $\\vec b$, call it $\\vec e$, which is the error. Hence, $\\vec e = \\vec b - \\vec p$\n",
    "\n",
    "$\\vec p$ is on $\\vec a$, so it is some multiple of $\\vec a$, $$\\vec p = x \\vec a$$\n",
    "\n",
    "From the last lecture, we know that dot product of two vectors is zero\n",
    "\n",
    "$\\vec a . \\vec e = 0$ => $a^T(b - xa) = 0$\n",
    "\n",
    "$xa^Ta = a^Tb$\n",
    "\n",
    "$$x = \\frac{a^Tb}{a^Ta}$$  This is 1D, so $a^Ta$ is a number, we can move it to denominator\n",
    "\n",
    "Substitute back to $\\vec p = x \\vec a$\n",
    "\n",
    "$$\\vec p = a\\frac{a^Tb}{a^Ta}$$\n",
    "\n",
    "Hence, projection $\\vec p = Pb$ where matrix $$P = \\frac{aa^T}{a^Ta}$$\n",
    "\n",
    "Some facts about matrix $P$\n",
    "- $C(P) =$ line through $\\vec a$\n",
    "- $rank(P) = 1$ becase a time a transpose\n",
    "- $P^T = P$\n",
    "- $P^2 = P$, imagine project b onto a twice -> projection at the same point. \n",
    "- If b is double projection point change. If a is double, projection point doesn't change\n"
   ]
  },
  {
   "cell_type": "markdown",
   "metadata": {},
   "source": [
    "### Why study projection?\n",
    "\n",
    "Because $Ax = b$ many have no solution. So we solve the closest solution\n",
    "\n",
    "Instead, solve $A \\hat x = P$ -> projection of $\\vec b$ onto column space. Put hat on x, indicates we solve x that is best possible\n",
    "\n",
    "Take n-dimensional example.\n",
    "\n",
    "Let $\\vec b$ project $\\vec p$ on a plane span by $a_1, a_2$. So $a_1, a_2$ is the column space of $A$.\n",
    "\n",
    "If b is in the column space, the project is just b. But if it is not, there is an error, e = b - p, which is perpendicular to the plane\n",
    "\n",
    "Just like the example in 1D, project p is on the plane $\\vec p = x_1 \\vec a_1 + x_2 \\vec a_2 = A\\hat x$\n",
    "\n",
    "The problem is $p = A\\hat x$. Find $\\hat x$\n",
    "\n",
    "Key: $b - A\\hat x$ is perpendicular to the plane\n",
    "\n",
    "$a_1^T(b - A \\hat x) = 0$ and $a_2^T(b - A \\hat x) = 0$, make them into a matrix\n",
    "\n",
    "$$\\begin{bmatrix}a_1^T \\\\ a_2^T \\end{bmatrix} \\begin{bmatrix}b - A \\hat x \\end{bmatrix} = \\begin{bmatrix} 0 \\\\ 0 \\end{bmatrix} $$\n",
    "\n",
    "$$A^T(b - A \\hat x) = 0$$\n",
    "\n",
    "- Notice that this is just like the equation in 1D -> $a^T(b - xa) = 0$\n",
    "- $(b - A \\hat x)$ is just e, so e in $N(A^T)$, so e is perpendicular to $C(A)$ Yes!\n",
    "\n",
    "$$A^TA \\hat x = A^Tb$$\n",
    "\n",
    "$$\\hat x = (A^TA)^{-1}A^Tb$$\n",
    "\n",
    "$$\\vec p = A \\hat x = A(A^TA)^{-1}A^Tb$$\n",
    "\n",
    "This is just like $\\vec p = a\\frac{a^Tb}{a^Ta}$ in 1D, except we cannot move ${a^Ta}$ to denominator becuase $(A^TA)^{-1}$ is a matrix in n-dimensional. Hence projection matrix $P$ is\n",
    "\n",
    "$$P = A(A^TA)^{-1}A^T$$"
   ]
  },
  {
   "cell_type": "markdown",
   "metadata": {},
   "source": [
    "Expand inverse, $A(A^TA)^{-1}A^T = AA^{-1}(A^T)^{-1}A^T = I$, so $P = I$?\n",
    "\n",
    "What wrong here is $A$ is not square matrix, it has no inverse, so we cannot expand inverse.\n",
    "\n",
    "If $A$ is a squre matrix, its column space in $R^n$, then we are projecting b into whole space, projection is identity. Correct.\n",
    "\n",
    "If we are projecting b into a subspace, then we cannot expand inverse, we have to keep the inverse.\n",
    "\n",
    "Similarly\n",
    "- $P^T = P$\n",
    "- $P^2 = A(A^TA)^{-1}A^TA(A^TA)^{-1}A^T = P$"
   ]
  },
  {
   "cell_type": "markdown",
   "metadata": {},
   "source": [
    "## Least squares\n",
    "\n",
    "This is the application of all the theory/formula above.\n",
    "\n",
    "Let say there are points (1,1), (2,2), (3,2), we would to fit the best line through. There is no exact solution, we would like to minimize the error projected from every points to the line.\n",
    "\n",
    "Three equations:\n",
    "\n",
    "$C + D = 1$ <br>\n",
    "$C + 2D = 2$ <br> \n",
    "$C + 3D = 2$\n",
    "\n",
    "$$\\begin{bmatrix} 1 & 1 \\\\ 1 & 2 \\\\ 1 & 3\\end{bmatrix}\n",
    "\\begin{bmatrix} C\\\\ D \\end{bmatrix} = \n",
    "\\begin{bmatrix} 1 \\\\ 2 \\\\ 2 \\end{bmatrix}$$\n",
    "\n",
    "There is no solution, we are looking for the best solution\n",
    "\n",
    "$$\\hat x = (A^TA)^{-1}A^Tb$$"
   ]
  },
  {
   "cell_type": "code",
   "execution_count": null,
   "metadata": {},
   "outputs": [],
   "source": []
  }
 ],
 "metadata": {
  "kernelspec": {
   "display_name": "Julia 1.5.0",
   "language": "julia",
   "name": "julia-1.5"
  },
  "language_info": {
   "file_extension": ".jl",
   "mimetype": "application/julia",
   "name": "julia",
   "version": "1.5.0"
  }
 },
 "nbformat": 4,
 "nbformat_minor": 4
}
