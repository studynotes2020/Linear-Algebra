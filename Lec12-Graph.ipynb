{
 "cells": [
  {
   "cell_type": "markdown",
   "metadata": {},
   "source": [
    "- Graph\n",
    "- Networks\n",
    "- Incidence Matrices"
   ]
  },
  {
   "cell_type": "markdown",
   "metadata": {},
   "source": [
    "### Graph: Nodes and Edges\n",
    "\n",
    "Suppose n = 4 nodes, m = 5 edges, also need direction\n",
    "\n",
    "\n",
    "### Incidence Matrix\n",
    "\n",
    "Each row represents each edge, $a_{11} = -1$ means current leaves 1 node go into 2 node. $a_{12} = 1$ means current enter node 2 from node 1\n",
    "\n",
    "$A = \\begin{bmatrix} -1 & 1 & 0 & 0 \\\\ 0 & -1 & 1 & 0 \\\\ -1 & 0 & 1 & 0 \\\\ -1 & 0 & 0 & 1 \\\\ 0 & 0 & -1 & 1 \\end{bmatrix}$\n",
    "\n",
    "- Loop correspondes to linearly dependent row, in this example, rows 1 2 3 form a loop.\n",
    "- This is a sparse graph, a lot of zero. 2*m of zero\n",
    "\n",
    "Try solve $Ax = 0$, $\\begin{bmatrix} -1 & 1 & 0 & 0 \\\\ 0 & -1 & 1 & 0 \\\\ -1 & 0 & 1 & 0 \\\\ -1 & 0 & 0 & 1 \\\\ 0 & 0 & -1 & 1 \\end{bmatrix}\n",
    "\\begin{bmatrix} x_1 \\\\ x_2 \\\\ x_3 \\\\ x_4 \\end{bmatrix} = 0$\n",
    "\n",
    "$Ax = \\begin{bmatrix} x_2 - x_1 \\\\ x_3 - x_2 \\\\ x_3 - x_1 \\\\ x_4 - x_1 \\\\ x_4 - x_3 \\end{bmatrix} = \\begin{bmatrix} 0 \\\\ 0 \\\\ 0 \\\\ 0 \\\\ 0 \\end{bmatrix} $\n",
    "\n",
    "$x = x_1, x_2, x_3, x_4$ edges are potentials at nodes. If x multiply by A, it produces potential difference $\\rightarrow$ there is a matrix $C$ that connects potential difference to currents $y_1, y_2, y_3, y_4, y_5$ on edges. This is called Ohm's law. $\\rightarrow$ $A^Ty$ Kirchoff Current Law\n",
    "\n",
    "What is the null space? Of course, zero vector. <br>\n",
    "What else? Constant potential, all x is 1, $x = c\\begin{bmatrix} 1 \\\\ 1 \\\\ 1 \\\\ 1 \\end{bmatrix}$, dim N(A) = 1, all 1 is also the basis\n",
    "\n",
    "Grounding makes current flow, grounding also means setting variable to zero. Let say $x_4 = 0$. All other three columns are independent. rank = 3.\n",
    "\n",
    "\n"
   ]
  },
  {
   "cell_type": "markdown",
   "metadata": {},
   "source": [
    "### Kirchoff Current Law\n",
    "\n",
    "$A^Ty = 0$, find dim of $N(A^T)$. $A^T$ becomes nxm or 4x5\n",
    "\n",
    "$A^Ty = \\begin{bmatrix} -1 & 0 & -1 & -1 & 0 \\\\ 1 & -1 & 0 & 0 & 0 \\\\ 0 & 1 & 1 & 0 & -1 \\\\ 0 & 0 & 0 & 1 & 1 \\end{bmatrix}  \n",
    "\\begin{bmatrix} y_1 \\\\ y_2 \\\\ y_3 \\\\ y_4 \\\\ y_5 \\end{bmatrix} = \\begin{bmatrix} 0 \\\\ 0 \\\\ 0 \\\\ 0 \\\\ 0 \\end{bmatrix}$\n",
    "\n",
    "dim is m-r = 5-3 = 2\n",
    "\n",
    "$\\begin{bmatrix} -y_1-y_3-y_4 \\\\ y_1-y_2 \\\\ y_2-y_3+y_5 \\\\ y_4+y_5 \\end{bmatrix} = \\begin{bmatrix} 0 \\\\ 0 \\\\ 0 \\\\ 0 \\\\ 0 \\end{bmatrix} $\n",
    "\n",
    "If we redraw the graph, we can see $-y_1-y_3-y_4$ is the flow of 3 currents out of the 1st node. $y_1-y_2$ says current in 2nd nodes equal to current out.\n",
    "\n",
    "Basis for $N(A^T)$, starts with $y_1 = 1$ $\\rightarrow$\n",
    "$y = \\begin{bmatrix} 1 \\\\ 1 \\\\ -1 \\\\ 0 \\\\ 0 \\end{bmatrix}$\n",
    "\n",
    "Starts from 2nd loop, let $y_3 = 1$  $\\rightarrow$\n",
    "$y = \\begin{bmatrix} 0 \\\\ 0 \\\\ 1 \\\\ -1 \\\\ 1 \\end{bmatrix}$\n",
    "\n",
    "If takes the big loop, we get $y = \\begin{bmatrix} 1 \\\\ 1 \\\\ 0 \\\\ -1 \\\\ 1 \\end{bmatrix}$, which is not independent\n",
    "\n",
    "In $A^Ty = \\begin{bmatrix} -1 & 0 & -1 & -1 & 0 \\\\ 1 & -1 & 0 & 0 & 0 \\\\ 0 & 1 & 1 & 0 & -1 \\\\ 0 & 0 & 0 & 1 & 1 \\end{bmatrix} $\n",
    "\n",
    "The pivot columns is 1, 2 and 4th (3rd is the comb. of 1 and 2). Independent means doesn't have loop. A graph without loop, called tree\n",
    "\n",
    "Tree: no loop graph\n",
    "\n",
    "dim $N(A^T) = m - r$ <br>\n",
    "rank is n - 1 because there is one dependency <br>\n",
    "#loops = #edges - (#nodes - 1)\n",
    "\n",
    "#nodes - #edges + #loops = 1 $\\rightarrow$ which is known as Euler's formula <br>\n",
    "- nodes are points, zero dimension\n",
    "- edges are lines, 1D\n",
    "- loops are area, 2D\n",
    "\n"
   ]
  },
  {
   "cell_type": "markdown",
   "metadata": {},
   "source": [
    "### Speaking in applied math\n",
    "\n",
    "- $e = Ax$, potential difference\n",
    "- $y = Ce$, current\n",
    "- $A^Ty = 0$, the current satisfy KCL\n",
    "\n",
    "If add external current source, 3rd equation changes\n",
    "$A^Ty = f$\n",
    "\n",
    "$A^TCAx = f$, the basic equation of applied math\n",
    "\n",
    "$A^TCA$ is always a symmetric matrix"
   ]
  },
  {
   "cell_type": "code",
   "execution_count": null,
   "metadata": {},
   "outputs": [],
   "source": []
  }
 ],
 "metadata": {
  "kernelspec": {
   "display_name": "Julia 1.5.0",
   "language": "julia",
   "name": "julia-1.5"
  },
  "language_info": {
   "file_extension": ".jl",
   "mimetype": "application/julia",
   "name": "julia",
   "version": "1.5.0"
  }
 },
 "nbformat": 4,
 "nbformat_minor": 4
}
