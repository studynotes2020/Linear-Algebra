{
 "cells": [
  {
   "cell_type": "markdown",
   "metadata": {},
   "source": [
    "## Four Fundamental Subspaces\n",
    "\n",
    "\n",
    "1. Column space $C(A)$\n",
    "2. Null space $N(A)$\n",
    "3. Row space = all combs of rows = all combs of columns of $A^T$ = $C(A^T)$\n",
    "4. Null space of $A^T$ = $N(A^T)$ = left nullspace of $A$\n",
    "\n",
    "Let $A$ is m x n\n",
    "- $C(A)$ in $R^m$\n",
    "- $N(A)$ in $R^n$\n",
    "- $C(A^T)$ in $R^n$\n",
    "- $N(A^T)$ in $R^m$\n",
    "\n",
    "Question: Basis? Dimension? for each subspaces\n",
    "\n",
    "How to produce basis? What is the dimension?\n",
    "\n",
    "- For $C(A)$, the dim is rank r, the basis is pivot columns\n",
    "- For $C(A^T)$, the dim is rank r, basis is the independent rows after elimination\n",
    "- For $N(A)$, the dim is n-r, basis is the number of special solutions, n-r\n",
    "- For $N(A^T)$, the dim is m-r\n",
    "\n",
    "\n",
    "\n",
    "$A = \\begin{bmatrix} 1 & 2 & 3 & 1\\\\ 1 & 1 & 2 & 1 \\\\ 1 & 2 & 3 & 1 \\end{bmatrix} \\rightarrow \\begin{bmatrix} 1 & 2 & 3 & 1\\\\ 0 & -1 & -1 & 0 \\\\ 0 & 0 & 0 & 0 \\end{bmatrix} \\rightarrow \\begin{bmatrix} 1 & 0 & 1 & 1\\\\ 0 & 1 & 1 & 0 \\\\ 0 & 0 & 0 & 0 \\end{bmatrix} = R$\n",
    "\n",
    "Column space changed. $C(R) \\neq C(A)$. Different column spaces but same row spaces. After doing elimination, row spaces don't change\n",
    "\n",
    "Basis for row space is first r rows of $R$\n",
    "\n",
    "Forth space: $N(A^T)$ <br>\n",
    "$A^Ty = 0$, taking transpose on both side <br>\n",
    "$y^TA = 0^T$ y becomes at the left, hence left null space\n",
    "\n",
    "In Gauss-Jordan Elimination <br>\n",
    "$E \\begin{bmatrix} A_{mxn} & I_{mxm} \\end{bmatrix}\n",
    "\\rightarrow \\begin{bmatrix} R_{mxn} & E_{mxm} \\end{bmatrix}$ <br>\n",
    "$EA = R$ if $R$ is $I$, then $E$ is $A^{-1}$ \n"
   ]
  },
  {
   "cell_type": "code",
   "execution_count": 5,
   "metadata": {},
   "outputs": [
    {
     "data": {
      "text/plain": [
       "3×3 Array{Int64,2}:\n",
       " -1   2  0\n",
       "  1  -1  0\n",
       " -1   0  1"
      ]
     },
     "execution_count": 5,
     "metadata": {},
     "output_type": "execute_result"
    }
   ],
   "source": [
    "E = [-1 2 0; 1 -1 0; -1 0 1]"
   ]
  },
  {
   "cell_type": "code",
   "execution_count": 3,
   "metadata": {},
   "outputs": [
    {
     "data": {
      "text/plain": [
       "3×4 Array{Int64,2}:\n",
       " 1  2  3  1\n",
       " 1  1  2  1\n",
       " 1  2  3  1"
      ]
     },
     "execution_count": 3,
     "metadata": {},
     "output_type": "execute_result"
    }
   ],
   "source": [
    "A = [1 2 3 1;1 1 2 1; 1 2 3 1]"
   ]
  },
  {
   "cell_type": "code",
   "execution_count": 4,
   "metadata": {},
   "outputs": [
    {
     "data": {
      "text/plain": [
       "3×4 Array{Int64,2}:\n",
       " 1  0  1  1\n",
       " 0  1  1  0\n",
       " 0  0  0  0"
      ]
     },
     "execution_count": 4,
     "metadata": {},
     "output_type": "execute_result"
    }
   ],
   "source": [
    "E*A"
   ]
  },
  {
   "cell_type": "markdown",
   "metadata": {},
   "source": [
    "For null row space, we are looking for combnation of row to get zero row. In the above example, the last row of E [-1, 0, 1], is the only vector in the left null space, which is the basis of left null space"
   ]
  },
  {
   "cell_type": "markdown",
   "metadata": {},
   "source": [
    "New vector space, M!\n",
    "\n",
    "All 3x3 matrices. Can do A+B, kA, but not A\\*B for now\n",
    "\n",
    "Subspaces of M: upper trianglar matrices, symmetric matrices, diagonal matrices\n",
    "\n",
    "Diagonal matrics has dimension 3\n",
    "\n",
    "$\\begin{bmatrix} 1 & 0 & 0 \\\\ 0 & 0 & 0 \\\\ 0 & 0 & 0 \\end{bmatrix}, \\begin{bmatrix} 1 & 0 & 0 \\\\ 0 & 3 & 0 \\\\ 0 & 0 & 0 \\end{bmatrix}, \\begin{bmatrix} 0 & 0 & 0 \\\\ 0 & 0 & 0 \\\\ 0 & 0 & 7 \\end{bmatrix}$\n",
    "\n",
    "These three diagonal matrices are independent, they span the subspaces of diagonal matrices. Stretching the idea from 3x3 to nxn"
   ]
  },
  {
   "cell_type": "code",
   "execution_count": null,
   "metadata": {},
   "outputs": [],
   "source": []
  }
 ],
 "metadata": {
  "kernelspec": {
   "display_name": "Julia 1.5.0",
   "language": "julia",
   "name": "julia-1.5"
  },
  "language_info": {
   "file_extension": ".jl",
   "mimetype": "application/julia",
   "name": "julia",
   "version": "1.5.0"
  }
 },
 "nbformat": 4,
 "nbformat_minor": 4
}
