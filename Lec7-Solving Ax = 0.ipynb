{
 "cells": [
  {
   "cell_type": "markdown",
   "metadata": {},
   "source": [
    "### Computing nullspace $Ax = 0$\n",
    "\n",
    "\n"
   ]
  },
  {
   "cell_type": "code",
   "execution_count": 8,
   "metadata": {},
   "outputs": [
    {
     "data": {
      "text/plain": [
       "3×4 Array{Int64,2}:\n",
       " 1  2  2   2\n",
       " 2  4  6   8\n",
       " 3  6  8  10"
      ]
     },
     "execution_count": 8,
     "metadata": {},
     "output_type": "execute_result"
    }
   ],
   "source": [
    "using LinearAlgebra\n",
    "A = [1 2 2 2; 2 4 6 8; 3 6 8 10]"
   ]
  },
  {
   "cell_type": "markdown",
   "metadata": {},
   "source": [
    "$ \\begin{bmatrix}\n",
    "1 & 2 & 2 & 2 \\\\ 2 & 4 & 6 & 8 \\\\ 3&6&8&10 \\end{bmatrix} \\rightarrow\n",
    "\\begin{bmatrix}\n",
    "1 & 2 & 2 & 2 \\\\ 0 & 0 & 2 & 4 \\\\ 0&0&2&4 \\end{bmatrix}$\n",
    "\n",
    "pivot is zero, look for row exchange, none, so continue <br>\n",
    "\n",
    "$\n",
    "\\rightarrow \\begin{bmatrix}\n",
    "1 & 2 & 2 & 2 \\\\ 0 & 0 & 2 & 4 \\\\ 0 & 0 & 0 & 0 \\end{bmatrix} = U$   echelon form\n",
    "\n",
    "rank of A = number of pivot, in the above case, 2\n",
    "\n",
    "#### Pivot Variables vs Free Variables\n",
    "\n",
    "In example above, two pivot columns and two free columns. These two free variables, x2 and x4, we can assign anything we like to them. Then solve for x1 and x2\n",
    "\n",
    "Let say a free but convenient choice, $x_2 = 1, x_4 = 0$\n",
    "\n",
    "$x_1 + 2x_2 + 2x_3 + 2x_4 = 0 $ <br>\n",
    "$             2x_3 + 2x_4 = 0 $\n",
    "\n",
    "Then we get $x = \\begin{bmatrix}-2 \\\\ 1 \\\\ 0 \\\\ 0 \\end{bmatrix}$, take the multiples then we have many other solutions\n",
    "\n",
    "Next, take other values for $x_2 = 0, x_4 = 1$, then we get \n",
    "$x = d\\begin{bmatrix}2 \\\\ 0 \\\\ -2 \\\\ 1 \\end{bmatrix}$\n",
    "\n",
    "$x = c\\begin{bmatrix}-2 \\\\ 1 \\\\ 0 \\\\ 0 \\end{bmatrix} + d\\begin{bmatrix}2 \\\\ 0 \\\\ -2 \\\\ 1 \\end{bmatrix}$\n",
    "\n",
    "If there are m rows, n columns, r ranks, there are n - r free variables\n",
    "\n",
    "Look like we have 3 equations, but we really only have 2 independent equations"
   ]
  },
  {
   "cell_type": "markdown",
   "metadata": {},
   "source": [
    "### R = reduced row echelon form\n",
    "\n",
    "Make the second pivot = 1 if without changing the solution, and make zero above and below the pivot\n",
    "\n",
    "$\\begin{bmatrix} 1 & 2 & 2 & 2 \\\\ 0 & 0 & 2 & 4 \\\\ 0&0&0&0 \\end{bmatrix}\n",
    "\\rightarrow \\begin{bmatrix} 1 & 2 & 0 & -2 \\\\ 0 & 0 & 1 & 2 \\\\ 0&0&0&0 \\end{bmatrix} = R$\n"
   ]
  },
  {
   "cell_type": "code",
   "execution_count": 9,
   "metadata": {},
   "outputs": [
    {
     "ename": "LoadError",
     "evalue": "UndefVarError: rref not defined",
     "output_type": "error",
     "traceback": [
      "UndefVarError: rref not defined",
      "",
      "Stacktrace:",
      " [1] top-level scope at In[9]:1",
      " [2] include_string(::Function, ::Module, ::String, ::String) at .\\loading.jl:1091"
     ]
    }
   ],
   "source": [
    "rref(A)  # reduced row echelon form removed from the package"
   ]
  },
  {
   "cell_type": "markdown",
   "metadata": {},
   "source": [
    "$Ax = 0 \\rightarrow Ux = 0 \\rightarrow Rx = 0$, all the same\n",
    "\n",
    "Separate pivot columns and free cols\n",
    "\n",
    "$\\begin{bmatrix} 1 & 0 & 2 & -2 \\\\ 0 & 1 & 0 & 2 \\end{bmatrix}\n",
    "\\rightarrow \\begin{bmatrix} I & F \\end{bmatrix}$\n",
    "\n",
    "R = $\\begin{bmatrix} I & F \\\\ 0 & 0 \\end{bmatrix}$, r pivot rows, r pivot cols, n-r free cols\n",
    "\n",
    "nullspace matrix, (columns are the special solutions)\n",
    "\n",
    "$RN = 0$\n",
    "\n",
    "$N = \\begin{bmatrix} -F \\\\ I \\end{bmatrix}$\n",
    "\n",
    "$RX = 0 \\rightarrow\n",
    "\\begin{bmatrix} I & F \\end{bmatrix} \\begin{bmatrix} x_{pivot} \\\\ x_{free} \\end{bmatrix} = 0$\n",
    "\n",
    "$ x_{pivot} + Fx_{free}  = 0$"
   ]
  },
  {
   "cell_type": "markdown",
   "metadata": {},
   "source": [
    "#### Last example to go through the algorithm\n",
    "\n",
    "$A = \\begin{bmatrix} 1 & 2 & 3\\\\ 2 & 4 & 6 \\\\ 2 & 6 & 8 \\\\ 2 & 8 & 10 \\end{bmatrix} \\rightarrow \\begin{bmatrix} 1 & 2 & 3 \\\\ 0 & 0 & 0 \\\\ 0 & 2 & 2 \\\\ 0 & 4 & 4 \\end{bmatrix} \\rightarrow\n",
    "\\begin{bmatrix} 1 & 2 & 3 \\\\ 0 & 2 & 2 \\\\ 0 & 0 & 0 \\\\ 0 & 0 & 0 \\end{bmatrix}\n",
    "\\rightarrow \\begin{bmatrix} 1 & 0 & 1 \\\\ 0 & 1 & 1 \\\\ 0 & 0 & 0 \\\\ 0 & 0 & 0 \\end{bmatrix} = R$\n",
    "\n",
    "r = 2 again!  Two pivot cols, one free cols (3-2)\n",
    "\n",
    "$x = c\\begin{bmatrix} -1 \\\\ -1 \\\\ 1 \\end{bmatrix} = c\\begin{bmatrix} -F \\\\ I \\end{bmatrix}$. This is the whole nullspace\n",
    "\n"
   ]
  },
  {
   "cell_type": "code",
   "execution_count": null,
   "metadata": {},
   "outputs": [],
   "source": []
  }
 ],
 "metadata": {
  "kernelspec": {
   "display_name": "Julia 1.5.0",
   "language": "julia",
   "name": "julia-1.5"
  },
  "language_info": {
   "file_extension": ".jl",
   "mimetype": "application/julia",
   "name": "julia",
   "version": "1.5.0"
  }
 },
 "nbformat": 4,
 "nbformat_minor": 4
}
