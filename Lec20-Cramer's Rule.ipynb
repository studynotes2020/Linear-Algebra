{
 "cells": [
  {
   "cell_type": "markdown",
   "metadata": {},
   "source": [
    "- Formula for $A^{-1}$\n",
    "- Cramers Rule\n",
    "- Determinant A = Volume of box\n",
    "- Last lecture, cofactor formula\n",
    "\n",
    "$$ det A = a_{i1}C_{i1} + a_{i2}C_{i2} + ... + a_{in}C_{in} $$"
   ]
  },
  {
   "cell_type": "markdown",
   "metadata": {},
   "source": [
    "## Formula for $A^{-1}$\n",
    "\n",
    "$$\\begin{bmatrix} a & b \\\\ c & d \\end{bmatrix}^{-1} = \n",
    "\\frac{1}{ad-bc} \\begin{bmatrix} d & -b \\\\ -c & a \\end{bmatrix}$$\n",
    "\n",
    "Observe that\n",
    "+ d is cofactor of a\n",
    "+ -b is cofactor of c\n",
    "\n",
    "$$A^{-1} = \\frac{1}{det A} C^T$$\n",
    "\n",
    "$det A$ is products of n entries, $C^T$ is products of n - 1 entries\n",
    "\n",
    "### Check $AC^T = (det A)I$\n",
    "\n",
    "From the cofactor formula we know\n",
    "\n",
    "$\\begin{bmatrix} a_{11} & ... & a_{1n} \\\\  ... \\\\ a_{n1} & ... & a_{nn} \\end{bmatrix}\n",
    "\\begin{bmatrix} C_{11} & ... & C_{n1} \\\\  C_{12} & ... \\\\ C_{1n} & ... & C_{nn} \\end{bmatrix} = \\begin{bmatrix} det A & ... & ... \\\\  ... & det A & ... \\\\ ... & ... & det A \\end{bmatrix}$\n",
    "\n",
    "\n",
    "\n"
   ]
  },
  {
   "cell_type": "markdown",
   "metadata": {},
   "source": [
    "## Cramer's Rule\n",
    "\n",
    "$$Ax = b$$\n",
    "\n",
    "$$x = A^{-1}b = \\frac{1}{det A}C^Tb$$\n",
    "\n",
    "$$x_1 = \\frac{det B_1}{det A}, x_2 = \\frac{det B_2}{det A}, x_j = \\frac{det B_j}{det A}$$\n",
    "\n",
    "$C^Tb = C_{11}b_1 + C_{21}b_2 + ...$\n",
    "\n",
    "A with column 1 replaced by b = $B_1 = b_1$ * n - 1 columns of A\n",
    "\n",
    "$B_j = A$ with column j replaced by b\n",
    "\n"
   ]
  },
  {
   "cell_type": "markdown",
   "metadata": {},
   "source": [
    "## Determinant A = Volume of box\n",
    "\n",
    "First examine A is orthonormal matrix, $A = Q$\n",
    "\n",
    "Definition of orthonormal matrix $Q^TQ = I$\n",
    "\n",
    "$det(Q^TQ) = det(I)$\n",
    "\n",
    "$\\begin{vmatrix}Q^T\\end{vmatrix} \\begin{vmatrix}Q\\end{vmatrix} = 1$ \n",
    "\n",
    "$\\begin{vmatrix}Q\\end{vmatrix}^2 = 1$ $\\to Q$ is 1 or -1 which is the volume of the box\n",
    "\n",
    "Next, if $A$ is rectangular box, which is edge stretching from cube. Double the edge, determinant is also doubled. Consistent\n",
    "\n",
    "For degree other that 90:\n",
    "\n",
    "Suppose a parallelogram with corner (0,0), (a,b), (c,d) and (a+c, b+d)\n",
    "\n",
    "$\\begin{vmatrix} a + a' & b + b' \\\\ c & d \\end{vmatrix} = \n",
    "\\begin{vmatrix} a  & b  \\\\ c & d \\end{vmatrix} + \n",
    "\\begin{vmatrix} a'  & b'  \\\\ c & d \\end{vmatrix}$\n",
    "\n",
    "area = det = ad - bc for paralellogram\n",
    "\n",
    "$\\frac12(ad - bc)$ for triangle\n",
    "\n",
    "If we know the coordinates (not height, length), we know the area\n",
    "\n",
    "Suppose a triangle $(x_1, y_1), (x_2, y_2), (x_3, y_3)$\n",
    "\n",
    "$$Area = \\frac12 \\begin{vmatrix} x_1 & y_1 & 1 \\\\ x_2 & y_2 & 1 \\\\ x_3 & y_3 & 1 \\end{vmatrix}$$"
   ]
  },
  {
   "cell_type": "code",
   "execution_count": null,
   "metadata": {},
   "outputs": [],
   "source": []
  }
 ],
 "metadata": {
  "kernelspec": {
   "display_name": "Julia 1.5.0",
   "language": "julia",
   "name": "julia-1.5"
  },
  "language_info": {
   "file_extension": ".jl",
   "mimetype": "application/julia",
   "name": "julia",
   "version": "1.5.0"
  }
 },
 "nbformat": 4,
 "nbformat_minor": 4
}
