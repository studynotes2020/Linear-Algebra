{
 "cells": [
  {
   "cell_type": "markdown",
   "metadata": {},
   "source": [
    "2x - y = 0 <br>\n",
    "-x + 2y = 3 <br>\n",
    "Solve for x and y <br>\n",
    "\n",
    "AX = b <br>\n",
    "\n",
    "$A = \\begin{bmatrix}\n",
    "  2 & -1    \\\\[0.3em]\n",
    "  -1 & 2 \n",
    "\\end{bmatrix} $\n",
    "\n",
    "$X = \\begin{bmatrix}\n",
    "  x    \\\\[0.3em]\n",
    "  y \n",
    "\\end{bmatrix}$\n",
    "\n",
    "$b = \\begin{bmatrix}\n",
    "  0    \\\\[0.3em]\n",
    "  3 \n",
    "\\end{bmatrix}$\n"
   ]
  },
  {
   "cell_type": "code",
   "execution_count": 28,
   "metadata": {},
   "outputs": [
    {
     "data": {
      "text/plain": [
       "2×2 Array{Int64,2}:\n",
       "  2  -1\n",
       " -1   2"
      ]
     },
     "execution_count": 28,
     "metadata": {},
     "output_type": "execute_result"
    }
   ],
   "source": [
    "using LinearAlgebra\n",
    "A = [2 -1; -1 2]"
   ]
  },
  {
   "cell_type": "code",
   "execution_count": 29,
   "metadata": {},
   "outputs": [
    {
     "data": {
      "text/plain": [
       "2-element Array{Int64,1}:\n",
       " 0\n",
       " 3"
      ]
     },
     "execution_count": 29,
     "metadata": {},
     "output_type": "execute_result"
    }
   ],
   "source": [
    "b = [0; 3]"
   ]
  },
  {
   "cell_type": "code",
   "execution_count": 47,
   "metadata": {},
   "outputs": [
    {
     "data": {
      "text/plain": [
       "2-element Array{Int64,1}:\n",
       "  2\n",
       " -1"
      ]
     },
     "execution_count": 47,
     "metadata": {},
     "output_type": "execute_result"
    }
   ],
   "source": [
    "A[1,:]\n"
   ]
  },
  {
   "cell_type": "code",
   "execution_count": 46,
   "metadata": {},
   "outputs": [
    {
     "data": {
      "text/plain": [
       "2-element Array{Int64,1}:\n",
       " -1\n",
       "  2"
      ]
     },
     "execution_count": 46,
     "metadata": {},
     "output_type": "execute_result"
    }
   ],
   "source": [
    "A[2,:]"
   ]
  },
  {
   "cell_type": "code",
   "execution_count": 52,
   "metadata": {},
   "outputs": [
    {
     "data": {
      "image/svg+xml": [
       "<?xml version=\"1.0\" encoding=\"utf-8\"?>\n",
       "<svg xmlns=\"http://www.w3.org/2000/svg\" xmlns:xlink=\"http://www.w3.org/1999/xlink\" width=\"600\" height=\"400\" viewBox=\"0 0 2400 1600\">\n",
       "<defs>\n",
       "  <clipPath id=\"clip400\">\n",
       "    <rect x=\"0\" y=\"0\" width=\"2400\" height=\"1600\"/>\n",
       "  </clipPath>\n",
       "</defs>\n",
       "<path clip-path=\"url(#clip400)\" d=\"\n",
       "M0 1600 L2400 1600 L2400 0 L0 0  Z\n",
       "  \" fill=\"#ffffff\" fill-rule=\"evenodd\" fill-opacity=\"1\"/>\n",
       "<defs>\n",
       "  <clipPath id=\"clip401\">\n",
       "    <rect x=\"480\" y=\"0\" width=\"1681\" height=\"1600\"/>\n",
       "  </clipPath>\n",
       "</defs>\n",
       "<path clip-path=\"url(#clip400)\" d=\"\n",
       "M125.256 1486.45 L2352.76 1486.45 L2352.76 47.2441 L125.256 47.2441  Z\n",
       "  \" fill=\"#ffffff\" fill-rule=\"evenodd\" fill-opacity=\"1\"/>\n",
       "<defs>\n",
       "  <clipPath id=\"clip402\">\n",
       "    <rect x=\"125\" y=\"47\" width=\"2229\" height=\"1440\"/>\n",
       "  </clipPath>\n",
       "</defs>\n",
       "<polyline clip-path=\"url(#clip402)\" style=\"stroke:#000000; stroke-width:2; stroke-opacity:0.1; fill:none\" points=\"\n",
       "  188.298,1486.45 188.298,47.2441 \n",
       "  \"/>\n",
       "<polyline clip-path=\"url(#clip402)\" style=\"stroke:#000000; stroke-width:2; stroke-opacity:0.1; fill:none\" points=\"\n",
       "  888.77,1486.45 888.77,47.2441 \n",
       "  \"/>\n",
       "<polyline clip-path=\"url(#clip402)\" style=\"stroke:#000000; stroke-width:2; stroke-opacity:0.1; fill:none\" points=\"\n",
       "  1589.24,1486.45 1589.24,47.2441 \n",
       "  \"/>\n",
       "<polyline clip-path=\"url(#clip402)\" style=\"stroke:#000000; stroke-width:2; stroke-opacity:0.1; fill:none\" points=\"\n",
       "  2289.71,1486.45 2289.71,47.2441 \n",
       "  \"/>\n",
       "<polyline clip-path=\"url(#clip402)\" style=\"stroke:#000000; stroke-width:2; stroke-opacity:0.1; fill:none\" points=\"\n",
       "  125.256,1445.72 2352.76,1445.72 \n",
       "  \"/>\n",
       "<polyline clip-path=\"url(#clip402)\" style=\"stroke:#000000; stroke-width:2; stroke-opacity:0.1; fill:none\" points=\"\n",
       "  125.256,1219.43 2352.76,1219.43 \n",
       "  \"/>\n",
       "<polyline clip-path=\"url(#clip402)\" style=\"stroke:#000000; stroke-width:2; stroke-opacity:0.1; fill:none\" points=\"\n",
       "  125.256,993.136 2352.76,993.136 \n",
       "  \"/>\n",
       "<polyline clip-path=\"url(#clip402)\" style=\"stroke:#000000; stroke-width:2; stroke-opacity:0.1; fill:none\" points=\"\n",
       "  125.256,766.846 2352.76,766.846 \n",
       "  \"/>\n",
       "<polyline clip-path=\"url(#clip402)\" style=\"stroke:#000000; stroke-width:2; stroke-opacity:0.1; fill:none\" points=\"\n",
       "  125.256,540.556 2352.76,540.556 \n",
       "  \"/>\n",
       "<polyline clip-path=\"url(#clip402)\" style=\"stroke:#000000; stroke-width:2; stroke-opacity:0.1; fill:none\" points=\"\n",
       "  125.256,314.266 2352.76,314.266 \n",
       "  \"/>\n",
       "<polyline clip-path=\"url(#clip402)\" style=\"stroke:#000000; stroke-width:2; stroke-opacity:0.1; fill:none\" points=\"\n",
       "  125.256,87.9763 2352.76,87.9763 \n",
       "  \"/>\n",
       "<polyline clip-path=\"url(#clip400)\" style=\"stroke:#000000; stroke-width:4; stroke-opacity:1; fill:none\" points=\"\n",
       "  125.256,1486.45 2352.76,1486.45 \n",
       "  \"/>\n",
       "<polyline clip-path=\"url(#clip400)\" style=\"stroke:#000000; stroke-width:4; stroke-opacity:1; fill:none\" points=\"\n",
       "  125.256,1486.45 125.256,47.2441 \n",
       "  \"/>\n",
       "<polyline clip-path=\"url(#clip400)\" style=\"stroke:#000000; stroke-width:4; stroke-opacity:1; fill:none\" points=\"\n",
       "  188.298,1486.45 188.298,1469.18 \n",
       "  \"/>\n",
       "<polyline clip-path=\"url(#clip400)\" style=\"stroke:#000000; stroke-width:4; stroke-opacity:1; fill:none\" points=\"\n",
       "  888.77,1486.45 888.77,1469.18 \n",
       "  \"/>\n",
       "<polyline clip-path=\"url(#clip400)\" style=\"stroke:#000000; stroke-width:4; stroke-opacity:1; fill:none\" points=\"\n",
       "  1589.24,1486.45 1589.24,1469.18 \n",
       "  \"/>\n",
       "<polyline clip-path=\"url(#clip400)\" style=\"stroke:#000000; stroke-width:4; stroke-opacity:1; fill:none\" points=\"\n",
       "  2289.71,1486.45 2289.71,1469.18 \n",
       "  \"/>\n",
       "<polyline clip-path=\"url(#clip400)\" style=\"stroke:#000000; stroke-width:4; stroke-opacity:1; fill:none\" points=\"\n",
       "  125.256,1445.72 151.986,1445.72 \n",
       "  \"/>\n",
       "<polyline clip-path=\"url(#clip400)\" style=\"stroke:#000000; stroke-width:4; stroke-opacity:1; fill:none\" points=\"\n",
       "  125.256,1219.43 151.986,1219.43 \n",
       "  \"/>\n",
       "<polyline clip-path=\"url(#clip400)\" style=\"stroke:#000000; stroke-width:4; stroke-opacity:1; fill:none\" points=\"\n",
       "  125.256,993.136 151.986,993.136 \n",
       "  \"/>\n",
       "<polyline clip-path=\"url(#clip400)\" style=\"stroke:#000000; stroke-width:4; stroke-opacity:1; fill:none\" points=\"\n",
       "  125.256,766.846 151.986,766.846 \n",
       "  \"/>\n",
       "<polyline clip-path=\"url(#clip400)\" style=\"stroke:#000000; stroke-width:4; stroke-opacity:1; fill:none\" points=\"\n",
       "  125.256,540.556 151.986,540.556 \n",
       "  \"/>\n",
       "<polyline clip-path=\"url(#clip400)\" style=\"stroke:#000000; stroke-width:4; stroke-opacity:1; fill:none\" points=\"\n",
       "  125.256,314.266 151.986,314.266 \n",
       "  \"/>\n",
       "<polyline clip-path=\"url(#clip400)\" style=\"stroke:#000000; stroke-width:4; stroke-opacity:1; fill:none\" points=\"\n",
       "  125.256,87.9763 151.986,87.9763 \n",
       "  \"/>\n",
       "<path clip-path=\"url(#clip400)\" d=\"M 0 0 M169.166 1525.04 L181.643 1525.04 L181.643 1528.83 L169.166 1528.83 L169.166 1525.04 Z\" fill=\"#000000\" fill-rule=\"evenodd\" fill-opacity=\"1\" /><path clip-path=\"url(#clip400)\" d=\"M 0 0 M187.523 1535.98 L195.162 1535.98 L195.162 1509.62 L186.852 1511.29 L186.852 1507.03 L195.115 1505.36 L199.791 1505.36 L199.791 1535.98 L207.43 1535.98 L207.43 1539.92 L187.523 1539.92 L187.523 1535.98 Z\" fill=\"#000000\" fill-rule=\"evenodd\" fill-opacity=\"1\" /><path clip-path=\"url(#clip400)\" d=\"M 0 0 M888.77 1508.44 Q885.159 1508.44 883.33 1512 Q881.525 1515.55 881.525 1522.67 Q881.525 1529.78 883.33 1533.35 Q885.159 1536.89 888.77 1536.89 Q892.404 1536.89 894.21 1533.35 Q896.038 1529.78 896.038 1522.67 Q896.038 1515.55 894.21 1512 Q892.404 1508.44 888.77 1508.44 M888.77 1504.73 Q894.58 1504.73 897.636 1509.34 Q900.714 1513.92 900.714 1522.67 Q900.714 1531.4 897.636 1536.01 Q894.58 1540.59 888.77 1540.59 Q882.96 1540.59 879.881 1536.01 Q876.826 1531.4 876.826 1522.67 Q876.826 1513.92 879.881 1509.34 Q882.96 1504.73 888.77 1504.73 Z\" fill=\"#000000\" fill-rule=\"evenodd\" fill-opacity=\"1\" /><path clip-path=\"url(#clip400)\" d=\"M 0 0 M1579.62 1535.98 L1587.26 1535.98 L1587.26 1509.62 L1578.95 1511.29 L1578.95 1507.03 L1587.22 1505.36 L1591.89 1505.36 L1591.89 1535.98 L1599.53 1535.98 L1599.53 1539.92 L1579.62 1539.92 L1579.62 1535.98 Z\" fill=\"#000000\" fill-rule=\"evenodd\" fill-opacity=\"1\" /><path clip-path=\"url(#clip400)\" d=\"M 0 0 M2284.37 1535.98 L2300.69 1535.98 L2300.69 1539.92 L2278.74 1539.92 L2278.74 1535.98 Q2281.4 1533.23 2285.99 1528.6 Q2290.59 1523.95 2291.77 1522.61 Q2294.02 1520.08 2294.9 1518.35 Q2295.8 1516.59 2295.8 1514.9 Q2295.8 1512.14 2293.86 1510.41 Q2291.94 1508.67 2288.83 1508.67 Q2286.63 1508.67 2284.18 1509.43 Q2281.75 1510.2 2278.97 1511.75 L2278.97 1507.03 Q2281.8 1505.89 2284.25 1505.31 Q2286.7 1504.73 2288.74 1504.73 Q2294.11 1504.73 2297.31 1507.42 Q2300.5 1510.11 2300.5 1514.6 Q2300.5 1516.73 2299.69 1518.65 Q2298.9 1520.54 2296.8 1523.14 Q2296.22 1523.81 2293.12 1527.03 Q2290.01 1530.22 2284.37 1535.98 Z\" fill=\"#000000\" fill-rule=\"evenodd\" fill-opacity=\"1\" /><path clip-path=\"url(#clip400)\" d=\"M 0 0 M63.3625 1448.11 L75.8393 1448.11 L75.8393 1451.91 L63.3625 1451.91 L63.3625 1448.11 Z\" fill=\"#000000\" fill-rule=\"evenodd\" fill-opacity=\"1\" /><path clip-path=\"url(#clip400)\" d=\"M 0 0 M84.9365 1459.06 L101.256 1459.06 L101.256 1463 L79.3115 1463 L79.3115 1459.06 Q81.9735 1456.31 86.5568 1451.68 Q91.1633 1447.02 92.3438 1445.68 Q94.5892 1443.16 95.4688 1441.42 Q96.3716 1439.66 96.3716 1437.97 Q96.3716 1435.22 94.4271 1433.48 Q92.5059 1431.75 89.404 1431.75 Q87.205 1431.75 84.7513 1432.51 Q82.3207 1433.27 79.543 1434.82 L79.543 1430.1 Q82.367 1428.97 84.8207 1428.39 Q87.2744 1427.81 89.3114 1427.81 Q94.6818 1427.81 97.8762 1430.5 Q101.071 1433.18 101.071 1437.67 Q101.071 1439.8 100.26 1441.72 Q99.4734 1443.62 97.3669 1446.21 Q96.7882 1446.88 93.6864 1450.1 Q90.5846 1453.3 84.9365 1459.06 Z\" fill=\"#000000\" fill-rule=\"evenodd\" fill-opacity=\"1\" /><path clip-path=\"url(#clip400)\" d=\"M 0 0 M62.9921 1221.82 L75.4689 1221.82 L75.4689 1225.62 L62.9921 1225.62 L62.9921 1221.82 Z\" fill=\"#000000\" fill-rule=\"evenodd\" fill-opacity=\"1\" /><path clip-path=\"url(#clip400)\" d=\"M 0 0 M81.3485 1232.77 L88.9874 1232.77 L88.9874 1206.41 L80.6772 1208.07 L80.6772 1203.81 L88.9411 1202.15 L93.617 1202.15 L93.617 1232.77 L101.256 1232.77 L101.256 1236.71 L81.3485 1236.71 L81.3485 1232.77 Z\" fill=\"#000000\" fill-rule=\"evenodd\" fill-opacity=\"1\" /><path clip-path=\"url(#clip400)\" d=\"M 0 0 M89.3114 978.935 Q85.7003 978.935 83.8716 982.499 Q82.0661 986.041 82.0661 993.171 Q82.0661 1000.28 83.8716 1003.84 Q85.7003 1007.38 89.3114 1007.38 Q92.9457 1007.38 94.7512 1003.84 Q96.5799 1000.28 96.5799 993.171 Q96.5799 986.041 94.7512 982.499 Q92.9457 978.935 89.3114 978.935 M89.3114 975.231 Q95.1216 975.231 98.1771 979.837 Q101.256 984.421 101.256 993.171 Q101.256 1001.9 98.1771 1006.5 Q95.1216 1011.09 89.3114 1011.09 Q83.5013 1011.09 80.4226 1006.5 Q77.367 1001.9 77.367 993.171 Q77.367 984.421 80.4226 979.837 Q83.5013 975.231 89.3114 975.231 Z\" fill=\"#000000\" fill-rule=\"evenodd\" fill-opacity=\"1\" /><path clip-path=\"url(#clip400)\" d=\"M 0 0 M81.3485 780.191 L88.9874 780.191 L88.9874 753.825 L80.6772 755.492 L80.6772 751.233 L88.9411 749.566 L93.617 749.566 L93.617 780.191 L101.256 780.191 L101.256 784.126 L81.3485 784.126 L81.3485 780.191 Z\" fill=\"#000000\" fill-rule=\"evenodd\" fill-opacity=\"1\" /><path clip-path=\"url(#clip400)\" d=\"M 0 0 M84.9365 553.901 L101.256 553.901 L101.256 557.836 L79.3115 557.836 L79.3115 553.901 Q81.9735 551.146 86.5568 546.517 Q91.1633 541.864 92.3438 540.521 Q94.5892 537.998 95.4688 536.262 Q96.3716 534.503 96.3716 532.813 Q96.3716 530.058 94.4271 528.322 Q92.5059 526.586 89.404 526.586 Q87.205 526.586 84.7513 527.35 Q82.3207 528.114 79.543 529.665 L79.543 524.943 Q82.367 523.808 84.8207 523.23 Q87.2744 522.651 89.3114 522.651 Q94.6818 522.651 97.8762 525.336 Q101.071 528.021 101.071 532.512 Q101.071 534.642 100.26 536.563 Q99.4734 538.461 97.3669 541.054 Q96.7882 541.725 93.6864 544.943 Q90.5846 548.137 84.9365 553.901 Z\" fill=\"#000000\" fill-rule=\"evenodd\" fill-opacity=\"1\" /><path clip-path=\"url(#clip400)\" d=\"M 0 0 M94.1262 312.912 Q97.4827 313.63 99.3577 315.898 Q101.256 318.167 101.256 321.5 Q101.256 326.616 97.7373 329.417 Q94.2188 332.217 87.7374 332.217 Q85.5614 332.217 83.2466 331.778 Q80.955 331.361 78.5013 330.505 L78.5013 325.991 Q80.4457 327.125 82.7605 327.704 Q85.0753 328.282 87.5985 328.282 Q91.9966 328.282 94.2883 326.546 Q96.6031 324.81 96.6031 321.5 Q96.6031 318.444 94.4503 316.731 Q92.3207 314.995 88.5012 314.995 L84.4735 314.995 L84.4735 311.153 L88.6864 311.153 Q92.1355 311.153 93.9642 309.787 Q95.7929 308.398 95.7929 305.806 Q95.7929 303.144 93.8947 301.732 Q92.0197 300.296 88.5012 300.296 Q86.58 300.296 84.3809 300.713 Q82.1818 301.13 79.543 302.009 L79.543 297.843 Q82.205 297.102 84.5198 296.732 Q86.8577 296.361 88.9179 296.361 Q94.242 296.361 97.3438 298.792 Q100.446 301.199 100.446 305.319 Q100.446 308.19 98.8021 310.181 Q97.1586 312.148 94.1262 312.912 Z\" fill=\"#000000\" fill-rule=\"evenodd\" fill-opacity=\"1\" /><path clip-path=\"url(#clip400)\" d=\"M 0 0 M91.6725 74.7703 L79.867 93.2193 L91.6725 93.2193 L91.6725 74.7703 M90.4457 70.6963 L96.3253 70.6963 L96.3253 93.2193 L101.256 93.2193 L101.256 97.1082 L96.3253 97.1082 L96.3253 105.256 L91.6725 105.256 L91.6725 97.1082 L76.0708 97.1082 L76.0708 92.5943 L90.4457 70.6963 Z\" fill=\"#000000\" fill-rule=\"evenodd\" fill-opacity=\"1\" /><polyline clip-path=\"url(#clip402)\" style=\"stroke:#009af9; stroke-width:4; stroke-opacity:1; fill:none\" points=\"\n",
       "  188.298,1445.72 888.77,993.136 1589.24,540.556 2289.71,87.9763 \n",
       "  \"/>\n",
       "<polyline clip-path=\"url(#clip402)\" style=\"stroke:#e26f46; stroke-width:4; stroke-opacity:1; fill:none\" points=\"\n",
       "  188.298,766.846 888.77,653.701 1589.24,540.556 2289.71,427.411 \n",
       "  \"/>\n",
       "<path clip-path=\"url(#clip400)\" d=\"\n",
       "M1979.99 276.658 L2278.51 276.658 L2278.51 95.2176 L1979.99 95.2176  Z\n",
       "  \" fill=\"#ffffff\" fill-rule=\"evenodd\" fill-opacity=\"1\"/>\n",
       "<polyline clip-path=\"url(#clip400)\" style=\"stroke:#000000; stroke-width:4; stroke-opacity:1; fill:none\" points=\"\n",
       "  1979.99,276.658 2278.51,276.658 2278.51,95.2176 1979.99,95.2176 1979.99,276.658 \n",
       "  \"/>\n",
       "<polyline clip-path=\"url(#clip400)\" style=\"stroke:#009af9; stroke-width:4; stroke-opacity:1; fill:none\" points=\"\n",
       "  2004.74,155.698 2153.24,155.698 \n",
       "  \"/>\n",
       "<path clip-path=\"url(#clip400)\" d=\"M 0 0 M2191.83 175.385 Q2190.02 180.015 2188.31 181.427 Q2186.6 182.839 2183.73 182.839 L2180.33 182.839 L2180.33 179.274 L2182.83 179.274 Q2184.58 179.274 2185.56 178.44 Q2186.53 177.607 2187.71 174.505 L2188.47 172.561 L2177.99 147.052 L2182.5 147.052 L2190.6 167.329 L2198.71 147.052 L2203.22 147.052 L2191.83 175.385 Z\" fill=\"#000000\" fill-rule=\"evenodd\" fill-opacity=\"1\" /><path clip-path=\"url(#clip400)\" d=\"M 0 0 M2209.1 169.042 L2216.74 169.042 L2216.74 142.677 L2208.43 144.343 L2208.43 140.084 L2216.69 138.418 L2221.37 138.418 L2221.37 169.042 L2229.01 169.042 L2229.01 172.978 L2209.1 172.978 L2209.1 169.042 Z\" fill=\"#000000\" fill-rule=\"evenodd\" fill-opacity=\"1\" /><polyline clip-path=\"url(#clip400)\" style=\"stroke:#e26f46; stroke-width:4; stroke-opacity:1; fill:none\" points=\"\n",
       "  2004.74,216.178 2153.24,216.178 \n",
       "  \"/>\n",
       "<path clip-path=\"url(#clip400)\" d=\"M 0 0 M2191.83 235.865 Q2190.02 240.495 2188.31 241.907 Q2186.6 243.319 2183.73 243.319 L2180.33 243.319 L2180.33 239.754 L2182.83 239.754 Q2184.58 239.754 2185.56 238.92 Q2186.53 238.087 2187.71 234.985 L2188.47 233.041 L2177.99 207.532 L2182.5 207.532 L2190.6 227.809 L2198.71 207.532 L2203.22 207.532 L2191.83 235.865 Z\" fill=\"#000000\" fill-rule=\"evenodd\" fill-opacity=\"1\" /><path clip-path=\"url(#clip400)\" d=\"M 0 0 M2212.32 229.522 L2228.64 229.522 L2228.64 233.458 L2206.69 233.458 L2206.69 229.522 Q2209.35 226.768 2213.94 222.138 Q2218.54 217.485 2219.72 216.143 Q2221.97 213.62 2222.85 211.884 Q2223.75 210.124 2223.75 208.435 Q2223.75 205.68 2221.81 203.944 Q2219.89 202.208 2216.78 202.208 Q2214.58 202.208 2212.13 202.972 Q2209.7 203.735 2206.92 205.286 L2206.92 200.564 Q2209.75 199.43 2212.2 198.851 Q2214.65 198.273 2216.69 198.273 Q2222.06 198.273 2225.26 200.958 Q2228.45 203.643 2228.45 208.134 Q2228.45 210.263 2227.64 212.185 Q2226.85 214.083 2224.75 216.675 Q2224.17 217.347 2221.07 220.564 Q2217.96 223.759 2212.32 229.522 Z\" fill=\"#000000\" fill-rule=\"evenodd\" fill-opacity=\"1\" /></svg>\n"
      ]
     },
     "execution_count": 52,
     "metadata": {},
     "output_type": "execute_result"
    }
   ],
   "source": [
    "using Plots\n",
    "f(x) = 2*x\n",
    "plot(f, -1:1:2)\n",
    "f(x) = 1/2*x + 3/2\n",
    "plot!(f, -1:1:2)"
   ]
  },
  {
   "cell_type": "markdown",
   "metadata": {},
   "source": [
    "The intersection solves the equation, which is x = 1, y = 2"
   ]
  },
  {
   "cell_type": "markdown",
   "metadata": {},
   "source": [
    "### Linear Combination of Columns"
   ]
  },
  {
   "cell_type": "markdown",
   "metadata": {},
   "source": [
    "x $\\bigl(\\begin{smallmatrix}\n",
    "2 \\\\ -1\n",
    "\\end{smallmatrix} \\bigr)$ + y  $\\bigl(\\begin{smallmatrix}\n",
    "-1 \\\\ 2\n",
    "\\end{smallmatrix} \\bigr)$ = $\\bigl(\\begin{smallmatrix}\n",
    "0 \\\\ 3\n",
    "\\end{smallmatrix} \\bigr)$\n",
    "<br>\n",
    "Plug x = 1 and y = 2 into the equation, we can see both side equal"
   ]
  },
  {
   "cell_type": "code",
   "execution_count": 48,
   "metadata": {},
   "outputs": [
    {
     "data": {
      "text/plain": [
       "3×3 Array{Int64,2}:\n",
       "  2  -1   0\n",
       " -1   2  -1\n",
       "  0  -3   4"
      ]
     },
     "execution_count": 48,
     "metadata": {},
     "output_type": "execute_result"
    }
   ],
   "source": [
    "A =[2 -1 0; -1 2 -1; 0 -3 4]\n"
   ]
  },
  {
   "cell_type": "markdown",
   "metadata": {},
   "source": [
    "### Row Picture\n",
    "Each row is equation of one plane so there are three planes and they meet in one point, which is the solution"
   ]
  },
  {
   "cell_type": "markdown",
   "metadata": {},
   "source": [
    "### Column Picture\n",
    "x $\\bigl(\\begin{smallmatrix}\n",
    "2 \\\\ -1 \\\\ 0\n",
    "\\end{smallmatrix} \\bigr)$ + y  $\\bigl(\\begin{smallmatrix}\n",
    "-1 \\\\ 2 \\\\ -3\n",
    "\\end{smallmatrix} \\bigr)$ + z $\\bigl(\\begin{smallmatrix}\n",
    "0 \\\\ -1 \\\\ 4\n",
    "\\end{smallmatrix} \\bigr)$ = $\\bigl(\\begin{smallmatrix}\n",
    "0 \\\\ -1 \\\\ 4\n",
    "\\end{smallmatrix} \\bigr)$"
   ]
  },
  {
   "cell_type": "markdown",
   "metadata": {},
   "source": [
    "x = 0, y = 0, z = 1"
   ]
  },
  {
   "cell_type": "markdown",
   "metadata": {},
   "source": [
    "Can I solve Ax = b for every b? <br>\n",
    "Do the linear combination of the columns fill the 3D planes? <br>\n",
    "For this matrix A, the answer is yes <br>\n",
    "\n",
    "A is invertible, non-singular matrix"
   ]
  },
  {
   "cell_type": "markdown",
   "metadata": {},
   "source": [
    "Think Ax is a combination of columns of A"
   ]
  },
  {
   "cell_type": "markdown",
   "metadata": {},
   "source": [
    "If I have information on 2D, then I can't not solve for point in 3D <br>\n",
    "Similaryly, if the information is N dimensional, then cannot solve for N+1 dimension"
   ]
  },
  {
   "cell_type": "code",
   "execution_count": null,
   "metadata": {},
   "outputs": [],
   "source": []
  }
 ],
 "metadata": {
  "kernelspec": {
   "display_name": "Julia 1.5.0",
   "language": "julia",
   "name": "julia-1.5"
  },
  "language_info": {
   "file_extension": ".jl",
   "mimetype": "application/julia",
   "name": "julia",
   "version": "1.5.0"
  }
 },
 "nbformat": 4,
 "nbformat_minor": 4
}
